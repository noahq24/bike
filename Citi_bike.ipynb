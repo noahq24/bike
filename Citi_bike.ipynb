{
 "cells": [
  {
   "cell_type": "markdown",
   "id": "89ce2883-b84f-4960-ac3a-81b0135a147c",
   "metadata": {
    "tags": []
   },
   "source": [
    "# Google Data Analytics Professional Certificate"
   ]
  },
  {
   "cell_type": "markdown",
   "id": "02a67cd5-7d7a-4884-b7ab-8f81d505cc3a",
   "metadata": {},
   "source": [
    "### Case study: How does NYC Citi Bike navigate speedy success?"
   ]
  },
  {
   "cell_type": "markdown",
   "id": "2a6506dc-11b9-4b66-8aea-a3184b050d21",
   "metadata": {},
   "source": [
    "# 1. Introduction\n",
    "\n",
    "## 1.1 Scenario\n",
    "\n",
    "You work as a junior data analyst. A new project arises from the company called Citi Bike, a bike-share company in NYC.  According to the director of marketing, maximizing the number of annual memberships will contribute to the company's future sucess.\n",
    "\n",
    "Essentially, the objective of the project is to understand how casual riders and annual members use Cyclistic bikes differently. The marketing team will then be able to utilise the data analyzation findings and insights to help them in their data-driven decisions.\n",
    "\n",
    "To clarify some terms, casual riders are defined as customers who purchase single-ride or full-day passes, while annual members are those who purchase annual memberships.\n",
    "\n",
    "This project will be analyzing the data for the year 2023."
   ]
  },
  {
   "cell_type": "markdown",
   "id": "3a1edde8-4edb-4ab4-aaab-a52ef036f0cf",
   "metadata": {},
   "source": [
    "## 1.2 Company background\n",
    "\n",
    "Citi Bike was launched in 2013. They have now grown to have a fleet of over 27,000 bicycles and a network of more than 1,500 stations across New York City. The bikes can be unlocked from one station and returned to any other station in the system at any time"
   ]
  },
  {
   "cell_type": "markdown",
   "id": "afa786b3-527f-40cc-8359-41ea1b102ff4",
   "metadata": {},
   "source": [
    "## 1.3 Analyzation method\n",
    "\n",
    "This case study will be analyzed using Google's 6 Steps of the Data Analysis Process. Ask, Prepare, Process, Analyze, Share, and Act.The project was advised to be carried out using SQL, RStudio and Tableau, but I will only be using Python for my own practice."
   ]
  },
  {
   "cell_type": "markdown",
   "id": "c0e354f8-a520-4c3c-a85e-ab94fedaf50f",
   "metadata": {},
   "source": [
    "# 2. Ask Phase\n",
    "\n",
    "During the \"Ask\" phase, we ask many questions, and also questions about the questions, as specfic as possible. These questions aims to identify what problems we need to solve while considering the needs of the stakeholders. This phase helps us to dive deeper into the problem in order to obtain better clarity and understanding of the problem.\n",
    "\n",
    "Deliverable: clear statement of the business task."
   ]
  },
  {
   "cell_type": "markdown",
   "id": "69671bd2-524c-4626-992c-9452e4ca35e8",
   "metadata": {},
   "source": [
    "## 2.1 Business task\n",
    "\n",
    "As mentioned in the introduction, the main task of the project is to understand: \n",
    "\n",
    "How casual riders and annual members use Citi Bike bikes differently for the year 2023."
   ]
  },
  {
   "cell_type": "markdown",
   "id": "f33113d8-8a51-4428-b8a4-91cc606ff9aa",
   "metadata": {},
   "source": [
    "# 3. Prepare Phase\n",
    "\n",
    "During the \"Prepare\" phase, we prepare our data collection methodology. Do we require qualitative or quantitative data, do we collect our data through surveys, interviews or existing sources, how do we avoid bias during the data collection process, these are all relevant questions needed to be answered during this phase.\n",
    "\n",
    "Deliverable: descriptions of all data sources used."
   ]
  },
  {
   "cell_type": "markdown",
   "id": "b16fd40a-7415-4727-845b-07111451ef55",
   "metadata": {
    "tags": []
   },
   "source": [
    "## 3.1 Descriptions of Data Sources Used\n",
    "\n",
    "The dataset used has been made available by [NYCBS Data Use Policy.](https://s3.amazonaws.com/tripdata/index.html) under this [license](https://ride.citibikenyc.com/data-sharing-policy)."
   ]
  },
  {
   "cell_type": "markdown",
   "id": "3dea8755-d694-4eb1-aa95-ec6fae84abc1",
   "metadata": {},
   "source": [
    "# 4. Process Phase\n",
    "\n",
    "The \"Process\" phase is where the data collected are being processed, this includes connecting the data sources, cleaning the data, filtering and choosing the data, calculating the confidence level of the data etc.\n",
    "\n",
    "Deliverable: documentation of any cleaning or manipulation of data."
   ]
  },
  {
   "cell_type": "markdown",
   "id": "2a5aa76d-2082-4caa-bc04-7e5edbaf2117",
   "metadata": {},
   "source": [
    "## 4.1 Documentation of data cleaning and manipulation\n",
    "\n",
    "I will be using Pandas for the data cleaning and manipulations. The actions that I carried out are as follows:\n",
    "\n",
    "The data for each month are in a seperate zip file, I downloded each file individually from the month of february up to December. \n",
    "Then I merge these files into one data file that store all the csv file of each month which enable me to analyze them in term of the year 2023.\n",
    "After, collecting the csv file I Rename the columns to make them consistent\n",
    "\n",
    "Identify the columns and type of each column of the data frame.\n",
    "Check for null values.\n",
    "Drop the null values (if any), and reconfirm that there are no longer null values\n",
    "I did not delete columns\n",
    "Check for duplicates.\n",
    "Drop the duplicated values (if any), and reconfirm that there are no longer duplicated values\n",
    "Modify the data type of certain column.\n",
    "\n",
    "Convert started_at column and ended_at column from \"object\" to \"datetime64\"\n",
    "To extract the hour, day, month and date to form new columns based on them\n",
    "To calculate the ride duration\n",
    "Check the order of the day, month.\n",
    "Create a new column ride_duration that calculates the duration of each ride.\n",
    "Express the ride duration in terms of only minutes , and not minutes and seconds\n",
    "Check whether there are negative values for the ride duration which would be illogical\n",
    "Remove the rows that have negative values\n",
    "Export the file of the cleaned data."
   ]
  },
  {
   "cell_type": "markdown",
   "id": "dc4112d4-2244-4ca6-b33a-636e21484740",
   "metadata": {},
   "source": [
    "### 4.1.1 Importing Libraries"
   ]
  },
  {
   "cell_type": "code",
   "execution_count": 52,
   "id": "f536c3ca-0d3c-4a00-86d7-c2120c9a02c3",
   "metadata": {},
   "outputs": [],
   "source": [
    "import pandas as pd\n",
    "import numpy as np"
   ]
  },
  {
   "cell_type": "markdown",
   "id": "82f73180-f195-4705-add7-2f7b0c893d01",
   "metadata": {},
   "source": [
    "### 4.1.2 Importing Data"
   ]
  },
  {
   "cell_type": "code",
   "execution_count": 53,
   "id": "9d20dafe-2de8-4528-a31c-22b06640046f",
   "metadata": {},
   "outputs": [],
   "source": [
    "# STEP 1: COLLECT DATA\n",
    "df = pd.read_csv('/Users/noahscomputer/Documents/citi_bike_data/combined_citi_bike_data.csv')"
   ]
  },
  {
   "cell_type": "markdown",
   "id": "0cb404c6-1f66-4139-bb39-c15a0c0b7468",
   "metadata": {},
   "source": [
    "### 4.1.3 Print the first 5 entries"
   ]
  },
  {
   "cell_type": "code",
   "execution_count": 54,
   "id": "0394cff0-dd41-4772-b792-ecdd17db1b3c",
   "metadata": {},
   "outputs": [
    {
     "data": {
      "text/html": [
       "<div>\n",
       "<style scoped>\n",
       "    .dataframe tbody tr th:only-of-type {\n",
       "        vertical-align: middle;\n",
       "    }\n",
       "\n",
       "    .dataframe tbody tr th {\n",
       "        vertical-align: top;\n",
       "    }\n",
       "\n",
       "    .dataframe thead th {\n",
       "        text-align: right;\n",
       "    }\n",
       "</style>\n",
       "<table border=\"1\" class=\"dataframe\">\n",
       "  <thead>\n",
       "    <tr style=\"text-align: right;\">\n",
       "      <th></th>\n",
       "      <th>ride_id</th>\n",
       "      <th>rideable_type</th>\n",
       "      <th>started_at</th>\n",
       "      <th>ended_at</th>\n",
       "      <th>start_station_name</th>\n",
       "      <th>start_station_id</th>\n",
       "      <th>end_station_name</th>\n",
       "      <th>end_station_id</th>\n",
       "      <th>start_lat</th>\n",
       "      <th>start_lng</th>\n",
       "      <th>end_lat</th>\n",
       "      <th>end_lng</th>\n",
       "      <th>member_casual</th>\n",
       "    </tr>\n",
       "  </thead>\n",
       "  <tbody>\n",
       "    <tr>\n",
       "      <th>0</th>\n",
       "      <td>E2E964A161F786AB</td>\n",
       "      <td>classic_bike</td>\n",
       "      <td>2023-08-07 19:37:47</td>\n",
       "      <td>2023-08-07 19:41:14</td>\n",
       "      <td>6 St &amp; Grand St</td>\n",
       "      <td>HB302</td>\n",
       "      <td>Madison St &amp; 10 St</td>\n",
       "      <td>HB503</td>\n",
       "      <td>40.744398</td>\n",
       "      <td>-74.034501</td>\n",
       "      <td>40.749943</td>\n",
       "      <td>-74.035865</td>\n",
       "      <td>member</td>\n",
       "    </tr>\n",
       "    <tr>\n",
       "      <th>1</th>\n",
       "      <td>0660F2E48E3BB87F</td>\n",
       "      <td>classic_bike</td>\n",
       "      <td>2023-08-01 13:16:22</td>\n",
       "      <td>2023-08-01 13:26:02</td>\n",
       "      <td>6 St &amp; Grand St</td>\n",
       "      <td>HB302</td>\n",
       "      <td>6 St &amp; Grand St</td>\n",
       "      <td>HB302</td>\n",
       "      <td>40.744398</td>\n",
       "      <td>-74.034501</td>\n",
       "      <td>40.744398</td>\n",
       "      <td>-74.034501</td>\n",
       "      <td>member</td>\n",
       "    </tr>\n",
       "    <tr>\n",
       "      <th>2</th>\n",
       "      <td>940FC7C675232897</td>\n",
       "      <td>classic_bike</td>\n",
       "      <td>2023-08-15 17:28:23</td>\n",
       "      <td>2023-08-15 17:50:35</td>\n",
       "      <td>Heights Elevator</td>\n",
       "      <td>JC059</td>\n",
       "      <td>Heights Elevator</td>\n",
       "      <td>JC059</td>\n",
       "      <td>40.748721</td>\n",
       "      <td>-74.040480</td>\n",
       "      <td>40.748716</td>\n",
       "      <td>-74.040443</td>\n",
       "      <td>member</td>\n",
       "    </tr>\n",
       "    <tr>\n",
       "      <th>3</th>\n",
       "      <td>E967660CC5CD585B</td>\n",
       "      <td>classic_bike</td>\n",
       "      <td>2023-08-01 12:44:24</td>\n",
       "      <td>2023-08-01 12:49:45</td>\n",
       "      <td>Hoboken Ave at Monmouth St</td>\n",
       "      <td>JC105</td>\n",
       "      <td>Hoboken Terminal - River St &amp; Hudson Pl</td>\n",
       "      <td>HB102</td>\n",
       "      <td>40.735279</td>\n",
       "      <td>-74.046830</td>\n",
       "      <td>40.736068</td>\n",
       "      <td>-74.029127</td>\n",
       "      <td>member</td>\n",
       "    </tr>\n",
       "    <tr>\n",
       "      <th>4</th>\n",
       "      <td>D997CB0B855FE2D6</td>\n",
       "      <td>classic_bike</td>\n",
       "      <td>2023-08-08 12:31:16</td>\n",
       "      <td>2023-08-08 12:40:18</td>\n",
       "      <td>Hoboken Ave at Monmouth St</td>\n",
       "      <td>JC105</td>\n",
       "      <td>Hoboken Terminal - River St &amp; Hudson Pl</td>\n",
       "      <td>HB102</td>\n",
       "      <td>40.735208</td>\n",
       "      <td>-74.046964</td>\n",
       "      <td>40.736068</td>\n",
       "      <td>-74.029127</td>\n",
       "      <td>member</td>\n",
       "    </tr>\n",
       "  </tbody>\n",
       "</table>\n",
       "</div>"
      ],
      "text/plain": [
       "            ride_id rideable_type           started_at             ended_at  \\\n",
       "0  E2E964A161F786AB  classic_bike  2023-08-07 19:37:47  2023-08-07 19:41:14   \n",
       "1  0660F2E48E3BB87F  classic_bike  2023-08-01 13:16:22  2023-08-01 13:26:02   \n",
       "2  940FC7C675232897  classic_bike  2023-08-15 17:28:23  2023-08-15 17:50:35   \n",
       "3  E967660CC5CD585B  classic_bike  2023-08-01 12:44:24  2023-08-01 12:49:45   \n",
       "4  D997CB0B855FE2D6  classic_bike  2023-08-08 12:31:16  2023-08-08 12:40:18   \n",
       "\n",
       "           start_station_name start_station_id  \\\n",
       "0             6 St & Grand St            HB302   \n",
       "1             6 St & Grand St            HB302   \n",
       "2            Heights Elevator            JC059   \n",
       "3  Hoboken Ave at Monmouth St            JC105   \n",
       "4  Hoboken Ave at Monmouth St            JC105   \n",
       "\n",
       "                          end_station_name end_station_id  start_lat  \\\n",
       "0                       Madison St & 10 St          HB503  40.744398   \n",
       "1                          6 St & Grand St          HB302  40.744398   \n",
       "2                         Heights Elevator          JC059  40.748721   \n",
       "3  Hoboken Terminal - River St & Hudson Pl          HB102  40.735279   \n",
       "4  Hoboken Terminal - River St & Hudson Pl          HB102  40.735208   \n",
       "\n",
       "   start_lng    end_lat    end_lng member_casual  \n",
       "0 -74.034501  40.749943 -74.035865        member  \n",
       "1 -74.034501  40.744398 -74.034501        member  \n",
       "2 -74.040480  40.748716 -74.040443        member  \n",
       "3 -74.046830  40.736068 -74.029127        member  \n",
       "4 -74.046964  40.736068 -74.029127        member  "
      ]
     },
     "execution_count": 54,
     "metadata": {},
     "output_type": "execute_result"
    }
   ],
   "source": [
    "df.head(5)"
   ]
  },
  {
   "cell_type": "markdown",
   "id": "bcee457b-28bd-4ddd-be25-0a2f196ab9a4",
   "metadata": {},
   "source": [
    "### 4.1.3 Print the last 5 entries"
   ]
  },
  {
   "cell_type": "code",
   "execution_count": 55,
   "id": "74e70454-ac21-463b-b06a-b527bb962c4f",
   "metadata": {},
   "outputs": [
    {
     "data": {
      "text/html": [
       "<div>\n",
       "<style scoped>\n",
       "    .dataframe tbody tr th:only-of-type {\n",
       "        vertical-align: middle;\n",
       "    }\n",
       "\n",
       "    .dataframe tbody tr th {\n",
       "        vertical-align: top;\n",
       "    }\n",
       "\n",
       "    .dataframe thead th {\n",
       "        text-align: right;\n",
       "    }\n",
       "</style>\n",
       "<table border=\"1\" class=\"dataframe\">\n",
       "  <thead>\n",
       "    <tr style=\"text-align: right;\">\n",
       "      <th></th>\n",
       "      <th>ride_id</th>\n",
       "      <th>rideable_type</th>\n",
       "      <th>started_at</th>\n",
       "      <th>ended_at</th>\n",
       "      <th>start_station_name</th>\n",
       "      <th>start_station_id</th>\n",
       "      <th>end_station_name</th>\n",
       "      <th>end_station_id</th>\n",
       "      <th>start_lat</th>\n",
       "      <th>start_lng</th>\n",
       "      <th>end_lat</th>\n",
       "      <th>end_lng</th>\n",
       "      <th>member_casual</th>\n",
       "    </tr>\n",
       "  </thead>\n",
       "  <tbody>\n",
       "    <tr>\n",
       "      <th>988846</th>\n",
       "      <td>EE6CF90DF3984253</td>\n",
       "      <td>classic_bike</td>\n",
       "      <td>2023-11-22 16:20:23</td>\n",
       "      <td>2023-11-22 16:26:38</td>\n",
       "      <td>Glenwood Ave</td>\n",
       "      <td>JC094</td>\n",
       "      <td>Bergen Ave &amp; Sip Ave</td>\n",
       "      <td>JC109</td>\n",
       "      <td>40.727551</td>\n",
       "      <td>-74.071061</td>\n",
       "      <td>40.731009</td>\n",
       "      <td>-74.064437</td>\n",
       "      <td>member</td>\n",
       "    </tr>\n",
       "    <tr>\n",
       "      <th>988847</th>\n",
       "      <td>DB574978E7FABC08</td>\n",
       "      <td>classic_bike</td>\n",
       "      <td>2023-11-21 07:01:57</td>\n",
       "      <td>2023-11-21 07:06:14</td>\n",
       "      <td>Glenwood Ave</td>\n",
       "      <td>JC094</td>\n",
       "      <td>Bergen Ave &amp; Sip Ave</td>\n",
       "      <td>JC109</td>\n",
       "      <td>40.727551</td>\n",
       "      <td>-74.071061</td>\n",
       "      <td>40.731009</td>\n",
       "      <td>-74.064437</td>\n",
       "      <td>member</td>\n",
       "    </tr>\n",
       "    <tr>\n",
       "      <th>988848</th>\n",
       "      <td>E8E26D6A35E922FA</td>\n",
       "      <td>classic_bike</td>\n",
       "      <td>2023-11-14 07:51:51</td>\n",
       "      <td>2023-11-14 08:04:20</td>\n",
       "      <td>Glenwood Ave</td>\n",
       "      <td>JC094</td>\n",
       "      <td>Montgomery St</td>\n",
       "      <td>JC099</td>\n",
       "      <td>40.727755</td>\n",
       "      <td>-74.071096</td>\n",
       "      <td>40.719420</td>\n",
       "      <td>-74.050990</td>\n",
       "      <td>member</td>\n",
       "    </tr>\n",
       "    <tr>\n",
       "      <th>988849</th>\n",
       "      <td>0D6ECB6E18E32C63</td>\n",
       "      <td>classic_bike</td>\n",
       "      <td>2023-11-17 08:15:06</td>\n",
       "      <td>2023-11-17 08:26:57</td>\n",
       "      <td>Glenwood Ave</td>\n",
       "      <td>JC094</td>\n",
       "      <td>Montgomery St</td>\n",
       "      <td>JC099</td>\n",
       "      <td>40.727624</td>\n",
       "      <td>-74.071103</td>\n",
       "      <td>40.719420</td>\n",
       "      <td>-74.050990</td>\n",
       "      <td>member</td>\n",
       "    </tr>\n",
       "    <tr>\n",
       "      <th>988850</th>\n",
       "      <td>817DBC6302EDF681</td>\n",
       "      <td>classic_bike</td>\n",
       "      <td>2023-11-16 10:55:31</td>\n",
       "      <td>2023-11-16 11:03:47</td>\n",
       "      <td>Glenwood Ave</td>\n",
       "      <td>JC094</td>\n",
       "      <td>Hilltop</td>\n",
       "      <td>JC019</td>\n",
       "      <td>40.727551</td>\n",
       "      <td>-74.071061</td>\n",
       "      <td>40.731169</td>\n",
       "      <td>-74.057574</td>\n",
       "      <td>member</td>\n",
       "    </tr>\n",
       "  </tbody>\n",
       "</table>\n",
       "</div>"
      ],
      "text/plain": [
       "                 ride_id rideable_type           started_at  \\\n",
       "988846  EE6CF90DF3984253  classic_bike  2023-11-22 16:20:23   \n",
       "988847  DB574978E7FABC08  classic_bike  2023-11-21 07:01:57   \n",
       "988848  E8E26D6A35E922FA  classic_bike  2023-11-14 07:51:51   \n",
       "988849  0D6ECB6E18E32C63  classic_bike  2023-11-17 08:15:06   \n",
       "988850  817DBC6302EDF681  classic_bike  2023-11-16 10:55:31   \n",
       "\n",
       "                   ended_at start_station_name start_station_id  \\\n",
       "988846  2023-11-22 16:26:38       Glenwood Ave            JC094   \n",
       "988847  2023-11-21 07:06:14       Glenwood Ave            JC094   \n",
       "988848  2023-11-14 08:04:20       Glenwood Ave            JC094   \n",
       "988849  2023-11-17 08:26:57       Glenwood Ave            JC094   \n",
       "988850  2023-11-16 11:03:47       Glenwood Ave            JC094   \n",
       "\n",
       "            end_station_name end_station_id  start_lat  start_lng    end_lat  \\\n",
       "988846  Bergen Ave & Sip Ave          JC109  40.727551 -74.071061  40.731009   \n",
       "988847  Bergen Ave & Sip Ave          JC109  40.727551 -74.071061  40.731009   \n",
       "988848         Montgomery St          JC099  40.727755 -74.071096  40.719420   \n",
       "988849         Montgomery St          JC099  40.727624 -74.071103  40.719420   \n",
       "988850               Hilltop          JC019  40.727551 -74.071061  40.731169   \n",
       "\n",
       "          end_lng member_casual  \n",
       "988846 -74.064437        member  \n",
       "988847 -74.064437        member  \n",
       "988848 -74.050990        member  \n",
       "988849 -74.050990        member  \n",
       "988850 -74.057574        member  "
      ]
     },
     "execution_count": 55,
     "metadata": {},
     "output_type": "execute_result"
    }
   ],
   "source": [
    "df.tail()"
   ]
  },
  {
   "cell_type": "markdown",
   "id": "3a8e83ed-a72e-4814-b3de-a1376b79a882",
   "metadata": {},
   "source": [
    "### 4.1.5 Rename headers of the dataframe"
   ]
  },
  {
   "cell_type": "code",
   "execution_count": 56,
   "id": "896e651d-d793-4841-9b8e-ab123e6a52e3",
   "metadata": {},
   "outputs": [],
   "source": [
    "# Rename to make them consistent\n",
    "headers = [\"trip_id\",\n",
    "           \"bike_type\",\n",
    "           \"start_time\",\n",
    "           \"end_time\",\n",
    "           \"from_station_name\",\n",
    "           \"from_station_id\",\n",
    "           \"to_station_name\",\n",
    "           \"to_station_id\",\n",
    "           \"start_latitude\",\n",
    "           \"start_longitude\",\n",
    "           \"end_latitude\",\n",
    "           \"end_longitude\",\n",
    "           \"user_type\"]"
   ]
  },
  {
   "cell_type": "code",
   "execution_count": 57,
   "id": "363a414b-c6e5-46e7-8723-9e6a659f831c",
   "metadata": {},
   "outputs": [],
   "source": [
    "df.columns = headers"
   ]
  },
  {
   "cell_type": "code",
   "execution_count": 58,
   "id": "5e2e3163-a4ac-4aea-8de9-3ec8e1ae234a",
   "metadata": {},
   "outputs": [
    {
     "data": {
      "text/html": [
       "<div>\n",
       "<style scoped>\n",
       "    .dataframe tbody tr th:only-of-type {\n",
       "        vertical-align: middle;\n",
       "    }\n",
       "\n",
       "    .dataframe tbody tr th {\n",
       "        vertical-align: top;\n",
       "    }\n",
       "\n",
       "    .dataframe thead th {\n",
       "        text-align: right;\n",
       "    }\n",
       "</style>\n",
       "<table border=\"1\" class=\"dataframe\">\n",
       "  <thead>\n",
       "    <tr style=\"text-align: right;\">\n",
       "      <th></th>\n",
       "      <th>trip_id</th>\n",
       "      <th>bike_type</th>\n",
       "      <th>start_time</th>\n",
       "      <th>end_time</th>\n",
       "      <th>from_station_name</th>\n",
       "      <th>from_station_id</th>\n",
       "      <th>to_station_name</th>\n",
       "      <th>to_station_id</th>\n",
       "      <th>start_latitude</th>\n",
       "      <th>start_longitude</th>\n",
       "      <th>end_latitude</th>\n",
       "      <th>end_longitude</th>\n",
       "      <th>user_type</th>\n",
       "    </tr>\n",
       "  </thead>\n",
       "  <tbody>\n",
       "    <tr>\n",
       "      <th>0</th>\n",
       "      <td>E2E964A161F786AB</td>\n",
       "      <td>classic_bike</td>\n",
       "      <td>2023-08-07 19:37:47</td>\n",
       "      <td>2023-08-07 19:41:14</td>\n",
       "      <td>6 St &amp; Grand St</td>\n",
       "      <td>HB302</td>\n",
       "      <td>Madison St &amp; 10 St</td>\n",
       "      <td>HB503</td>\n",
       "      <td>40.744398</td>\n",
       "      <td>-74.034501</td>\n",
       "      <td>40.749943</td>\n",
       "      <td>-74.035865</td>\n",
       "      <td>member</td>\n",
       "    </tr>\n",
       "    <tr>\n",
       "      <th>1</th>\n",
       "      <td>0660F2E48E3BB87F</td>\n",
       "      <td>classic_bike</td>\n",
       "      <td>2023-08-01 13:16:22</td>\n",
       "      <td>2023-08-01 13:26:02</td>\n",
       "      <td>6 St &amp; Grand St</td>\n",
       "      <td>HB302</td>\n",
       "      <td>6 St &amp; Grand St</td>\n",
       "      <td>HB302</td>\n",
       "      <td>40.744398</td>\n",
       "      <td>-74.034501</td>\n",
       "      <td>40.744398</td>\n",
       "      <td>-74.034501</td>\n",
       "      <td>member</td>\n",
       "    </tr>\n",
       "    <tr>\n",
       "      <th>2</th>\n",
       "      <td>940FC7C675232897</td>\n",
       "      <td>classic_bike</td>\n",
       "      <td>2023-08-15 17:28:23</td>\n",
       "      <td>2023-08-15 17:50:35</td>\n",
       "      <td>Heights Elevator</td>\n",
       "      <td>JC059</td>\n",
       "      <td>Heights Elevator</td>\n",
       "      <td>JC059</td>\n",
       "      <td>40.748721</td>\n",
       "      <td>-74.040480</td>\n",
       "      <td>40.748716</td>\n",
       "      <td>-74.040443</td>\n",
       "      <td>member</td>\n",
       "    </tr>\n",
       "  </tbody>\n",
       "</table>\n",
       "</div>"
      ],
      "text/plain": [
       "            trip_id     bike_type           start_time             end_time  \\\n",
       "0  E2E964A161F786AB  classic_bike  2023-08-07 19:37:47  2023-08-07 19:41:14   \n",
       "1  0660F2E48E3BB87F  classic_bike  2023-08-01 13:16:22  2023-08-01 13:26:02   \n",
       "2  940FC7C675232897  classic_bike  2023-08-15 17:28:23  2023-08-15 17:50:35   \n",
       "\n",
       "  from_station_name from_station_id     to_station_name to_station_id  \\\n",
       "0   6 St & Grand St           HB302  Madison St & 10 St         HB503   \n",
       "1   6 St & Grand St           HB302     6 St & Grand St         HB302   \n",
       "2  Heights Elevator           JC059    Heights Elevator         JC059   \n",
       "\n",
       "   start_latitude  start_longitude  end_latitude  end_longitude user_type  \n",
       "0       40.744398       -74.034501     40.749943     -74.035865    member  \n",
       "1       40.744398       -74.034501     40.744398     -74.034501    member  \n",
       "2       40.748721       -74.040480     40.748716     -74.040443    member  "
      ]
     },
     "execution_count": 58,
     "metadata": {},
     "output_type": "execute_result"
    }
   ],
   "source": [
    "#Check Used the head()to displayed the first 3 columns of the data frame\n",
    "\n",
    "df.head(3)"
   ]
  },
  {
   "cell_type": "code",
   "execution_count": 59,
   "id": "00445945-7989-4118-b3c6-5824fb51691d",
   "metadata": {},
   "outputs": [],
   "source": [
    "df.replace('?', np.nan, inplace = True)"
   ]
  },
  {
   "cell_type": "markdown",
   "id": "ddf61884-a099-47bc-9a69-0adb8b15dd8e",
   "metadata": {},
   "source": [
    "### 4.1.7 Identify the data types of the dataframe columns"
   ]
  },
  {
   "cell_type": "code",
   "execution_count": 60,
   "id": "53c28773-f500-4e09-93cd-3e555b821d07",
   "metadata": {},
   "outputs": [
    {
     "data": {
      "text/plain": [
       "trip_id               object\n",
       "bike_type             object\n",
       "start_time            object\n",
       "end_time              object\n",
       "from_station_name     object\n",
       "from_station_id       object\n",
       "to_station_name       object\n",
       "to_station_id         object\n",
       "start_latitude       float64\n",
       "start_longitude      float64\n",
       "end_latitude         float64\n",
       "end_longitude        float64\n",
       "user_type             object\n",
       "dtype: object"
      ]
     },
     "execution_count": 60,
     "metadata": {},
     "output_type": "execute_result"
    }
   ],
   "source": [
    "df.dtypes"
   ]
  },
  {
   "cell_type": "markdown",
   "id": "1c76bf97-924f-4eb6-a427-f18f89bb66a5",
   "metadata": {},
   "source": [
    "### 4.1.8 Identify the statistical description of the dataset, including that of 'object' data types."
   ]
  },
  {
   "cell_type": "code",
   "execution_count": 61,
   "id": "dc4eb810-bee6-4857-a4e8-ae2d1794a181",
   "metadata": {},
   "outputs": [
    {
     "data": {
      "text/html": [
       "<div>\n",
       "<style scoped>\n",
       "    .dataframe tbody tr th:only-of-type {\n",
       "        vertical-align: middle;\n",
       "    }\n",
       "\n",
       "    .dataframe tbody tr th {\n",
       "        vertical-align: top;\n",
       "    }\n",
       "\n",
       "    .dataframe thead th {\n",
       "        text-align: right;\n",
       "    }\n",
       "</style>\n",
       "<table border=\"1\" class=\"dataframe\">\n",
       "  <thead>\n",
       "    <tr style=\"text-align: right;\">\n",
       "      <th></th>\n",
       "      <th>trip_id</th>\n",
       "      <th>bike_type</th>\n",
       "      <th>start_time</th>\n",
       "      <th>end_time</th>\n",
       "      <th>from_station_name</th>\n",
       "      <th>from_station_id</th>\n",
       "      <th>to_station_name</th>\n",
       "      <th>to_station_id</th>\n",
       "      <th>start_latitude</th>\n",
       "      <th>start_longitude</th>\n",
       "      <th>end_latitude</th>\n",
       "      <th>end_longitude</th>\n",
       "      <th>user_type</th>\n",
       "    </tr>\n",
       "  </thead>\n",
       "  <tbody>\n",
       "    <tr>\n",
       "      <th>count</th>\n",
       "      <td>988851</td>\n",
       "      <td>988851</td>\n",
       "      <td>988851</td>\n",
       "      <td>988851</td>\n",
       "      <td>988766</td>\n",
       "      <td>988766</td>\n",
       "      <td>985532</td>\n",
       "      <td>985532</td>\n",
       "      <td>988851.000000</td>\n",
       "      <td>988851.000000</td>\n",
       "      <td>987897.000000</td>\n",
       "      <td>987897.000000</td>\n",
       "      <td>988851</td>\n",
       "    </tr>\n",
       "    <tr>\n",
       "      <th>unique</th>\n",
       "      <td>988851</td>\n",
       "      <td>3</td>\n",
       "      <td>960442</td>\n",
       "      <td>963006</td>\n",
       "      <td>351</td>\n",
       "      <td>351</td>\n",
       "      <td>552</td>\n",
       "      <td>549</td>\n",
       "      <td>NaN</td>\n",
       "      <td>NaN</td>\n",
       "      <td>NaN</td>\n",
       "      <td>NaN</td>\n",
       "      <td>2</td>\n",
       "    </tr>\n",
       "    <tr>\n",
       "      <th>top</th>\n",
       "      <td>E2E964A161F786AB</td>\n",
       "      <td>classic_bike</td>\n",
       "      <td>2023-08-24 18:19:41</td>\n",
       "      <td>2023-11-08 15:56:19</td>\n",
       "      <td>Grove St PATH</td>\n",
       "      <td>JC115</td>\n",
       "      <td>Grove St PATH</td>\n",
       "      <td>JC115</td>\n",
       "      <td>NaN</td>\n",
       "      <td>NaN</td>\n",
       "      <td>NaN</td>\n",
       "      <td>NaN</td>\n",
       "      <td>member</td>\n",
       "    </tr>\n",
       "    <tr>\n",
       "      <th>freq</th>\n",
       "      <td>1</td>\n",
       "      <td>854116</td>\n",
       "      <td>5</td>\n",
       "      <td>20</td>\n",
       "      <td>47010</td>\n",
       "      <td>47010</td>\n",
       "      <td>52126</td>\n",
       "      <td>52126</td>\n",
       "      <td>NaN</td>\n",
       "      <td>NaN</td>\n",
       "      <td>NaN</td>\n",
       "      <td>NaN</td>\n",
       "      <td>731783</td>\n",
       "    </tr>\n",
       "    <tr>\n",
       "      <th>mean</th>\n",
       "      <td>NaN</td>\n",
       "      <td>NaN</td>\n",
       "      <td>NaN</td>\n",
       "      <td>NaN</td>\n",
       "      <td>NaN</td>\n",
       "      <td>NaN</td>\n",
       "      <td>NaN</td>\n",
       "      <td>NaN</td>\n",
       "      <td>40.732335</td>\n",
       "      <td>-74.040128</td>\n",
       "      <td>40.732309</td>\n",
       "      <td>-74.039856</td>\n",
       "      <td>NaN</td>\n",
       "    </tr>\n",
       "    <tr>\n",
       "      <th>std</th>\n",
       "      <td>NaN</td>\n",
       "      <td>NaN</td>\n",
       "      <td>NaN</td>\n",
       "      <td>NaN</td>\n",
       "      <td>NaN</td>\n",
       "      <td>NaN</td>\n",
       "      <td>NaN</td>\n",
       "      <td>NaN</td>\n",
       "      <td>0.012192</td>\n",
       "      <td>0.011929</td>\n",
       "      <td>0.012319</td>\n",
       "      <td>0.011992</td>\n",
       "      <td>NaN</td>\n",
       "    </tr>\n",
       "    <tr>\n",
       "      <th>min</th>\n",
       "      <td>NaN</td>\n",
       "      <td>NaN</td>\n",
       "      <td>NaN</td>\n",
       "      <td>NaN</td>\n",
       "      <td>NaN</td>\n",
       "      <td>NaN</td>\n",
       "      <td>NaN</td>\n",
       "      <td>NaN</td>\n",
       "      <td>40.678334</td>\n",
       "      <td>-74.087223</td>\n",
       "      <td>40.645070</td>\n",
       "      <td>-74.190000</td>\n",
       "      <td>NaN</td>\n",
       "    </tr>\n",
       "    <tr>\n",
       "      <th>25%</th>\n",
       "      <td>NaN</td>\n",
       "      <td>NaN</td>\n",
       "      <td>NaN</td>\n",
       "      <td>NaN</td>\n",
       "      <td>NaN</td>\n",
       "      <td>NaN</td>\n",
       "      <td>NaN</td>\n",
       "      <td>NaN</td>\n",
       "      <td>40.721124</td>\n",
       "      <td>-74.045572</td>\n",
       "      <td>40.721124</td>\n",
       "      <td>-74.044247</td>\n",
       "      <td>NaN</td>\n",
       "    </tr>\n",
       "    <tr>\n",
       "      <th>50%</th>\n",
       "      <td>NaN</td>\n",
       "      <td>NaN</td>\n",
       "      <td>NaN</td>\n",
       "      <td>NaN</td>\n",
       "      <td>NaN</td>\n",
       "      <td>NaN</td>\n",
       "      <td>NaN</td>\n",
       "      <td>NaN</td>\n",
       "      <td>40.735208</td>\n",
       "      <td>-74.037683</td>\n",
       "      <td>40.735208</td>\n",
       "      <td>-74.037683</td>\n",
       "      <td>NaN</td>\n",
       "    </tr>\n",
       "    <tr>\n",
       "      <th>75%</th>\n",
       "      <td>NaN</td>\n",
       "      <td>NaN</td>\n",
       "      <td>NaN</td>\n",
       "      <td>NaN</td>\n",
       "      <td>NaN</td>\n",
       "      <td>NaN</td>\n",
       "      <td>NaN</td>\n",
       "      <td>NaN</td>\n",
       "      <td>40.742301</td>\n",
       "      <td>-74.031028</td>\n",
       "      <td>40.742258</td>\n",
       "      <td>-74.030970</td>\n",
       "      <td>NaN</td>\n",
       "    </tr>\n",
       "    <tr>\n",
       "      <th>max</th>\n",
       "      <td>NaN</td>\n",
       "      <td>NaN</td>\n",
       "      <td>NaN</td>\n",
       "      <td>NaN</td>\n",
       "      <td>NaN</td>\n",
       "      <td>NaN</td>\n",
       "      <td>NaN</td>\n",
       "      <td>NaN</td>\n",
       "      <td>40.863943</td>\n",
       "      <td>-73.941173</td>\n",
       "      <td>40.864480</td>\n",
       "      <td>-73.888719</td>\n",
       "      <td>NaN</td>\n",
       "    </tr>\n",
       "  </tbody>\n",
       "</table>\n",
       "</div>"
      ],
      "text/plain": [
       "                 trip_id     bike_type           start_time  \\\n",
       "count             988851        988851               988851   \n",
       "unique            988851             3               960442   \n",
       "top     E2E964A161F786AB  classic_bike  2023-08-24 18:19:41   \n",
       "freq                   1        854116                    5   \n",
       "mean                 NaN           NaN                  NaN   \n",
       "std                  NaN           NaN                  NaN   \n",
       "min                  NaN           NaN                  NaN   \n",
       "25%                  NaN           NaN                  NaN   \n",
       "50%                  NaN           NaN                  NaN   \n",
       "75%                  NaN           NaN                  NaN   \n",
       "max                  NaN           NaN                  NaN   \n",
       "\n",
       "                   end_time from_station_name from_station_id to_station_name  \\\n",
       "count                988851            988766          988766          985532   \n",
       "unique               963006               351             351             552   \n",
       "top     2023-11-08 15:56:19     Grove St PATH           JC115   Grove St PATH   \n",
       "freq                     20             47010           47010           52126   \n",
       "mean                    NaN               NaN             NaN             NaN   \n",
       "std                     NaN               NaN             NaN             NaN   \n",
       "min                     NaN               NaN             NaN             NaN   \n",
       "25%                     NaN               NaN             NaN             NaN   \n",
       "50%                     NaN               NaN             NaN             NaN   \n",
       "75%                     NaN               NaN             NaN             NaN   \n",
       "max                     NaN               NaN             NaN             NaN   \n",
       "\n",
       "       to_station_id  start_latitude  start_longitude   end_latitude  \\\n",
       "count         985532   988851.000000    988851.000000  987897.000000   \n",
       "unique           549             NaN              NaN            NaN   \n",
       "top            JC115             NaN              NaN            NaN   \n",
       "freq           52126             NaN              NaN            NaN   \n",
       "mean             NaN       40.732335       -74.040128      40.732309   \n",
       "std              NaN        0.012192         0.011929       0.012319   \n",
       "min              NaN       40.678334       -74.087223      40.645070   \n",
       "25%              NaN       40.721124       -74.045572      40.721124   \n",
       "50%              NaN       40.735208       -74.037683      40.735208   \n",
       "75%              NaN       40.742301       -74.031028      40.742258   \n",
       "max              NaN       40.863943       -73.941173      40.864480   \n",
       "\n",
       "        end_longitude user_type  \n",
       "count   987897.000000    988851  \n",
       "unique            NaN         2  \n",
       "top               NaN    member  \n",
       "freq              NaN    731783  \n",
       "mean       -74.039856       NaN  \n",
       "std          0.011992       NaN  \n",
       "min        -74.190000       NaN  \n",
       "25%        -74.044247       NaN  \n",
       "50%        -74.037683       NaN  \n",
       "75%        -74.030970       NaN  \n",
       "max        -73.888719       NaN  "
      ]
     },
     "execution_count": 61,
     "metadata": {},
     "output_type": "execute_result"
    }
   ],
   "source": [
    "df.describe(include='all')"
   ]
  },
  {
   "cell_type": "markdown",
   "id": "728b9b80-5008-4e16-8080-3683da2e2d55",
   "metadata": {},
   "source": [
    "### 4.1.9 Identify the summary information of the dataset"
   ]
  },
  {
   "cell_type": "code",
   "execution_count": 62,
   "id": "a674e04b-e260-4a25-af44-f80f743c50f3",
   "metadata": {},
   "outputs": [
    {
     "name": "stdout",
     "output_type": "stream",
     "text": [
      "<class 'pandas.core.frame.DataFrame'>\n",
      "RangeIndex: 988851 entries, 0 to 988850\n",
      "Data columns (total 13 columns):\n",
      " #   Column             Non-Null Count   Dtype  \n",
      "---  ------             --------------   -----  \n",
      " 0   trip_id            988851 non-null  object \n",
      " 1   bike_type          988851 non-null  object \n",
      " 2   start_time         988851 non-null  object \n",
      " 3   end_time           988851 non-null  object \n",
      " 4   from_station_name  988766 non-null  object \n",
      " 5   from_station_id    988766 non-null  object \n",
      " 6   to_station_name    985532 non-null  object \n",
      " 7   to_station_id      985532 non-null  object \n",
      " 8   start_latitude     988851 non-null  float64\n",
      " 9   start_longitude    988851 non-null  float64\n",
      " 10  end_latitude       987897 non-null  float64\n",
      " 11  end_longitude      987897 non-null  float64\n",
      " 12  user_type          988851 non-null  object \n",
      "dtypes: float64(4), object(9)\n",
      "memory usage: 98.1+ MB\n"
     ]
    }
   ],
   "source": [
    "df.info()"
   ]
  },
  {
   "cell_type": "markdown",
   "id": "6b7f0b47-8697-44ca-afb1-dc7f652e4721",
   "metadata": {},
   "source": [
    "### 4.1.10 Identify and handle missing values"
   ]
  },
  {
   "cell_type": "markdown",
   "id": "18a3525b-663a-478f-bfea-98a5765e27c7",
   "metadata": {},
   "source": [
    "#### Replace '?' with 'NaN'"
   ]
  },
  {
   "cell_type": "code",
   "execution_count": 63,
   "id": "91bb228b-cf1e-4299-9ee7-4e8aba99f1c5",
   "metadata": {},
   "outputs": [
    {
     "data": {
      "text/html": [
       "<div>\n",
       "<style scoped>\n",
       "    .dataframe tbody tr th:only-of-type {\n",
       "        vertical-align: middle;\n",
       "    }\n",
       "\n",
       "    .dataframe tbody tr th {\n",
       "        vertical-align: top;\n",
       "    }\n",
       "\n",
       "    .dataframe thead th {\n",
       "        text-align: right;\n",
       "    }\n",
       "</style>\n",
       "<table border=\"1\" class=\"dataframe\">\n",
       "  <thead>\n",
       "    <tr style=\"text-align: right;\">\n",
       "      <th></th>\n",
       "      <th>trip_id</th>\n",
       "      <th>bike_type</th>\n",
       "      <th>start_time</th>\n",
       "      <th>end_time</th>\n",
       "      <th>from_station_name</th>\n",
       "      <th>from_station_id</th>\n",
       "      <th>to_station_name</th>\n",
       "      <th>to_station_id</th>\n",
       "      <th>start_latitude</th>\n",
       "      <th>start_longitude</th>\n",
       "      <th>end_latitude</th>\n",
       "      <th>end_longitude</th>\n",
       "      <th>user_type</th>\n",
       "    </tr>\n",
       "  </thead>\n",
       "  <tbody>\n",
       "    <tr>\n",
       "      <th>0</th>\n",
       "      <td>E2E964A161F786AB</td>\n",
       "      <td>classic_bike</td>\n",
       "      <td>2023-08-07 19:37:47</td>\n",
       "      <td>2023-08-07 19:41:14</td>\n",
       "      <td>6 St &amp; Grand St</td>\n",
       "      <td>HB302</td>\n",
       "      <td>Madison St &amp; 10 St</td>\n",
       "      <td>HB503</td>\n",
       "      <td>40.744398</td>\n",
       "      <td>-74.034501</td>\n",
       "      <td>40.749943</td>\n",
       "      <td>-74.035865</td>\n",
       "      <td>member</td>\n",
       "    </tr>\n",
       "    <tr>\n",
       "      <th>1</th>\n",
       "      <td>0660F2E48E3BB87F</td>\n",
       "      <td>classic_bike</td>\n",
       "      <td>2023-08-01 13:16:22</td>\n",
       "      <td>2023-08-01 13:26:02</td>\n",
       "      <td>6 St &amp; Grand St</td>\n",
       "      <td>HB302</td>\n",
       "      <td>6 St &amp; Grand St</td>\n",
       "      <td>HB302</td>\n",
       "      <td>40.744398</td>\n",
       "      <td>-74.034501</td>\n",
       "      <td>40.744398</td>\n",
       "      <td>-74.034501</td>\n",
       "      <td>member</td>\n",
       "    </tr>\n",
       "    <tr>\n",
       "      <th>2</th>\n",
       "      <td>940FC7C675232897</td>\n",
       "      <td>classic_bike</td>\n",
       "      <td>2023-08-15 17:28:23</td>\n",
       "      <td>2023-08-15 17:50:35</td>\n",
       "      <td>Heights Elevator</td>\n",
       "      <td>JC059</td>\n",
       "      <td>Heights Elevator</td>\n",
       "      <td>JC059</td>\n",
       "      <td>40.748721</td>\n",
       "      <td>-74.040480</td>\n",
       "      <td>40.748716</td>\n",
       "      <td>-74.040443</td>\n",
       "      <td>member</td>\n",
       "    </tr>\n",
       "    <tr>\n",
       "      <th>3</th>\n",
       "      <td>E967660CC5CD585B</td>\n",
       "      <td>classic_bike</td>\n",
       "      <td>2023-08-01 12:44:24</td>\n",
       "      <td>2023-08-01 12:49:45</td>\n",
       "      <td>Hoboken Ave at Monmouth St</td>\n",
       "      <td>JC105</td>\n",
       "      <td>Hoboken Terminal - River St &amp; Hudson Pl</td>\n",
       "      <td>HB102</td>\n",
       "      <td>40.735279</td>\n",
       "      <td>-74.046830</td>\n",
       "      <td>40.736068</td>\n",
       "      <td>-74.029127</td>\n",
       "      <td>member</td>\n",
       "    </tr>\n",
       "    <tr>\n",
       "      <th>4</th>\n",
       "      <td>D997CB0B855FE2D6</td>\n",
       "      <td>classic_bike</td>\n",
       "      <td>2023-08-08 12:31:16</td>\n",
       "      <td>2023-08-08 12:40:18</td>\n",
       "      <td>Hoboken Ave at Monmouth St</td>\n",
       "      <td>JC105</td>\n",
       "      <td>Hoboken Terminal - River St &amp; Hudson Pl</td>\n",
       "      <td>HB102</td>\n",
       "      <td>40.735208</td>\n",
       "      <td>-74.046964</td>\n",
       "      <td>40.736068</td>\n",
       "      <td>-74.029127</td>\n",
       "      <td>member</td>\n",
       "    </tr>\n",
       "  </tbody>\n",
       "</table>\n",
       "</div>"
      ],
      "text/plain": [
       "            trip_id     bike_type           start_time             end_time  \\\n",
       "0  E2E964A161F786AB  classic_bike  2023-08-07 19:37:47  2023-08-07 19:41:14   \n",
       "1  0660F2E48E3BB87F  classic_bike  2023-08-01 13:16:22  2023-08-01 13:26:02   \n",
       "2  940FC7C675232897  classic_bike  2023-08-15 17:28:23  2023-08-15 17:50:35   \n",
       "3  E967660CC5CD585B  classic_bike  2023-08-01 12:44:24  2023-08-01 12:49:45   \n",
       "4  D997CB0B855FE2D6  classic_bike  2023-08-08 12:31:16  2023-08-08 12:40:18   \n",
       "\n",
       "            from_station_name from_station_id  \\\n",
       "0             6 St & Grand St           HB302   \n",
       "1             6 St & Grand St           HB302   \n",
       "2            Heights Elevator           JC059   \n",
       "3  Hoboken Ave at Monmouth St           JC105   \n",
       "4  Hoboken Ave at Monmouth St           JC105   \n",
       "\n",
       "                           to_station_name to_station_id  start_latitude  \\\n",
       "0                       Madison St & 10 St         HB503       40.744398   \n",
       "1                          6 St & Grand St         HB302       40.744398   \n",
       "2                         Heights Elevator         JC059       40.748721   \n",
       "3  Hoboken Terminal - River St & Hudson Pl         HB102       40.735279   \n",
       "4  Hoboken Terminal - River St & Hudson Pl         HB102       40.735208   \n",
       "\n",
       "   start_longitude  end_latitude  end_longitude user_type  \n",
       "0       -74.034501     40.749943     -74.035865    member  \n",
       "1       -74.034501     40.744398     -74.034501    member  \n",
       "2       -74.040480     40.748716     -74.040443    member  \n",
       "3       -74.046830     40.736068     -74.029127    member  \n",
       "4       -74.046964     40.736068     -74.029127    member  "
      ]
     },
     "execution_count": 63,
     "metadata": {},
     "output_type": "execute_result"
    }
   ],
   "source": [
    "df.replace('?', np.nan, inplace = True)\n",
    "df.head(5)"
   ]
  },
  {
   "cell_type": "markdown",
   "id": "07bf2d3f-83d0-4138-9dbc-405a3a44a987",
   "metadata": {},
   "source": [
    "#### Count missing values in each column"
   ]
  },
  {
   "cell_type": "code",
   "execution_count": 64,
   "id": "aaaa429e-9dc1-483a-b0cc-ac13a3d584e9",
   "metadata": {},
   "outputs": [
    {
     "data": {
      "text/plain": [
       "trip_id                 0\n",
       "bike_type               0\n",
       "start_time              0\n",
       "end_time                0\n",
       "from_station_name      85\n",
       "from_station_id        85\n",
       "to_station_name      3319\n",
       "to_station_id        3319\n",
       "start_latitude          0\n",
       "start_longitude         0\n",
       "end_latitude          954\n",
       "end_longitude         954\n",
       "user_type               0\n",
       "dtype: int64"
      ]
     },
     "execution_count": 64,
     "metadata": {},
     "output_type": "execute_result"
    }
   ],
   "source": [
    "df.isnull().sum()"
   ]
  },
  {
   "cell_type": "markdown",
   "id": "0d3a6e6b-2371-4d8a-963d-cad090bd5d2c",
   "metadata": {},
   "source": [
    "Based on the summary above, each column has 988851 rows of data and six of the columns containing missing data:\n",
    "\n",
    "1. \"from_station_name\": 85 missing data\n",
    "2. \"from_station_id\": 85 missing data\n",
    "3. \"to_station_name\": 3319 missing data\n",
    "4. \"to_station_id\": 3319 missing data\n",
    "5. \"end_latitude\": 954 missing data\n",
    "6. \"end_longitude\": 954 missing data"
   ]
  },
  {
   "cell_type": "markdown",
   "id": "2432b7c1-908f-4a78-a446-0bab7a1dd16d",
   "metadata": {},
   "source": [
    "### 4.1.11 Deal with missing data "
   ]
  },
  {
   "cell_type": "markdown",
   "id": "d18bd21b-8529-4509-95c7-93288f665d9c",
   "metadata": {},
   "source": [
    "#### Replace it by mode"
   ]
  },
  {
   "cell_type": "markdown",
   "id": "757afbbe-099e-4fca-b3e2-1e1194fe41ba",
   "metadata": {},
   "source": [
    "##### Replace the missing \"start_station_name\",\"start_station_id\" values by the most frequent"
   ]
  },
  {
   "cell_type": "code",
   "execution_count": 65,
   "id": "197b4dbd-456e-4249-a18f-3b6617fcb2e7",
   "metadata": {
    "tags": []
   },
   "outputs": [
    {
     "data": {
      "text/plain": [
       "0    Grove St PATH\n",
       "Name: from_station_name, dtype: object"
      ]
     },
     "execution_count": 65,
     "metadata": {},
     "output_type": "execute_result"
    }
   ],
   "source": [
    "# replace the missing 'start_station_name' , \"start_station_id\" values by the most frequent\n",
    "df[\"from_station_name\"].mode()"
   ]
  },
  {
   "cell_type": "code",
   "execution_count": 66,
   "id": "cf918668-38e1-4f57-9a25-8b754f3c5572",
   "metadata": {},
   "outputs": [],
   "source": [
    "df[\"from_station_name\"].replace(np.nan , \"Grove St PATH\", inplace = True)"
   ]
  },
  {
   "cell_type": "code",
   "execution_count": 67,
   "id": "d1965699-42cb-42aa-967f-d98d8fe397d8",
   "metadata": {},
   "outputs": [
    {
     "data": {
      "text/plain": [
       "0    JC115\n",
       "Name: from_station_id, dtype: object"
      ]
     },
     "execution_count": 67,
     "metadata": {},
     "output_type": "execute_result"
    }
   ],
   "source": [
    "df[\"from_station_id\"].mode()"
   ]
  },
  {
   "cell_type": "code",
   "execution_count": 68,
   "id": "79691a56-42c5-42b0-bb66-71589b3eafce",
   "metadata": {},
   "outputs": [],
   "source": [
    "df[\"from_station_id\"].replace (np.nan, \"JC115\" ,inplace = True)"
   ]
  },
  {
   "cell_type": "markdown",
   "id": "aa77cb5e-e426-41f1-bef8-503d1390708b",
   "metadata": {},
   "source": [
    "#### Replace it by mean"
   ]
  },
  {
   "cell_type": "markdown",
   "id": "78c0688e-9be7-4bb4-abcd-92ed91534acd",
   "metadata": {},
   "source": [
    "##### Replace \"NaN\" with the mean value in the \"end_lat\"  and \"end_lng\" column"
   ]
  },
  {
   "cell_type": "code",
   "execution_count": 69,
   "id": "b7ede6a7-ef44-4688-a214-bbb682088489",
   "metadata": {},
   "outputs": [],
   "source": [
    "avg_end_lat = df[\"end_latitude\"].astype('float').mean(axis = 0)"
   ]
  },
  {
   "cell_type": "code",
   "execution_count": 70,
   "id": "d7b69cda-1c15-4420-855e-3e209a7543bc",
   "metadata": {},
   "outputs": [],
   "source": [
    "df[\"end_latitude\"].replace(np.nan,avg_end_lat, inplace = True )"
   ]
  },
  {
   "cell_type": "code",
   "execution_count": 71,
   "id": "f42cd24b-18e8-4cb1-9caf-feb5184d8ebd",
   "metadata": {},
   "outputs": [],
   "source": [
    "avg_end_lng = df[\"end_longitude\"].astype('float').mean(axis = 0)"
   ]
  },
  {
   "cell_type": "code",
   "execution_count": 72,
   "id": "2d26760c-0fda-493d-896e-391d836f2a2e",
   "metadata": {},
   "outputs": [],
   "source": [
    "df[\"end_longitude\"].replace(np.nan,avg_end_lng, inplace = True)"
   ]
  },
  {
   "cell_type": "markdown",
   "id": "43ceb54c-bea0-47aa-814b-04c40d2d0538",
   "metadata": {},
   "source": [
    "#### Drop the whole row"
   ]
  },
  {
   "cell_type": "markdown",
   "id": "1cc06a4c-b18d-4693-8403-270cca8f73f5",
   "metadata": {},
   "source": [
    "##### Drop all rows that do not have end_station_name and end_station_id data:"
   ]
  },
  {
   "cell_type": "code",
   "execution_count": 73,
   "id": "e9ed4442-b963-413c-8735-2a9f2daa5251",
   "metadata": {},
   "outputs": [],
   "source": [
    "df.dropna(subset = [\"to_station_name\"], axis = 0, inplace = True)"
   ]
  },
  {
   "cell_type": "code",
   "execution_count": 74,
   "id": "f2da7dce-f16a-46e2-9634-79e01266ff2c",
   "metadata": {},
   "outputs": [],
   "source": [
    "df.dropna(subset = [\"to_station_id\"], axis = 0, inplace = True)"
   ]
  },
  {
   "cell_type": "markdown",
   "id": "a60b5a8f-1013-4296-94c5-7aec4f6b7b10",
   "metadata": {},
   "source": [
    "#### Reset index because we drop rows "
   ]
  },
  {
   "cell_type": "code",
   "execution_count": 75,
   "id": "ddf400a0-e172-4f0f-bd75-a9107f04e0cf",
   "metadata": {},
   "outputs": [],
   "source": [
    "df.reset_index(drop = True, inplace = True)"
   ]
  },
  {
   "cell_type": "markdown",
   "id": "1d4626b5-41b8-484b-8046-3b22b94ba9c1",
   "metadata": {},
   "source": [
    "#### Check if we hava missing values "
   ]
  },
  {
   "cell_type": "code",
   "execution_count": 76,
   "id": "577d18b2-7115-42a9-a8f7-d019edf7d83f",
   "metadata": {},
   "outputs": [
    {
     "data": {
      "text/plain": [
       "trip_id              0\n",
       "bike_type            0\n",
       "start_time           0\n",
       "end_time             0\n",
       "from_station_name    0\n",
       "from_station_id      0\n",
       "to_station_name      0\n",
       "to_station_id        0\n",
       "start_latitude       0\n",
       "start_longitude      0\n",
       "end_latitude         0\n",
       "end_longitude        0\n",
       "user_type            0\n",
       "dtype: int64"
      ]
     },
     "execution_count": 76,
     "metadata": {},
     "output_type": "execute_result"
    }
   ],
   "source": [
    "df.isnull().sum()"
   ]
  },
  {
   "cell_type": "markdown",
   "id": "511addbb-9ffe-43b2-af01-9c13fa43e2e5",
   "metadata": {},
   "source": [
    "### 4.1.12 Check for duplicated values."
   ]
  },
  {
   "cell_type": "code",
   "execution_count": 77,
   "id": "0bdcb500-5a0a-41e2-ae07-c55c365cfe77",
   "metadata": {},
   "outputs": [
    {
     "data": {
      "text/plain": [
       "0"
      ]
     },
     "execution_count": 77,
     "metadata": {},
     "output_type": "execute_result"
    }
   ],
   "source": [
    "df.duplicated().sum()"
   ]
  },
  {
   "cell_type": "markdown",
   "id": "237ae999-84c7-4be3-acaf-139c25ebfbc0",
   "metadata": {},
   "source": [
    "### 4.1.13 Correct data format"
   ]
  },
  {
   "cell_type": "code",
   "execution_count": 78,
   "id": "1a8481c0-284d-4d8e-b2b4-f09061701e10",
   "metadata": {},
   "outputs": [
    {
     "data": {
      "text/plain": [
       "trip_id               object\n",
       "bike_type             object\n",
       "start_time            object\n",
       "end_time              object\n",
       "from_station_name     object\n",
       "from_station_id       object\n",
       "to_station_name       object\n",
       "to_station_id         object\n",
       "start_latitude       float64\n",
       "start_longitude      float64\n",
       "end_latitude         float64\n",
       "end_longitude        float64\n",
       "user_type             object\n",
       "dtype: object"
      ]
     },
     "execution_count": 78,
     "metadata": {},
     "output_type": "execute_result"
    }
   ],
   "source": [
    "df.dtypes"
   ]
  },
  {
   "cell_type": "markdown",
   "id": "b0771684-4d86-4f8e-b5e2-b64d0a7beced",
   "metadata": {},
   "source": [
    "#### Convert data types to proper format"
   ]
  },
  {
   "cell_type": "code",
   "execution_count": 79,
   "id": "5a8a3e35-2a0c-4579-96f7-ca7dc422a787",
   "metadata": {},
   "outputs": [],
   "source": [
    "# Convert the 'started_at' and 'ended_at' columns to datetime\n",
    "\n",
    "df[[\"start_time\",\"end_time\"]] = df[[\"start_time\", \"end_time\"]].astype('datetime64')"
   ]
  },
  {
   "cell_type": "markdown",
   "id": "7c220bf3-163f-4635-9a6c-b879dd8c4398",
   "metadata": {},
   "source": [
    "#### Check the columns after the conversion"
   ]
  },
  {
   "cell_type": "code",
   "execution_count": 80,
   "id": "acb611d7-3fd1-430e-9a94-a8318c0379d7",
   "metadata": {},
   "outputs": [
    {
     "data": {
      "text/plain": [
       "trip_id                      object\n",
       "bike_type                    object\n",
       "start_time           datetime64[ns]\n",
       "end_time             datetime64[ns]\n",
       "from_station_name            object\n",
       "from_station_id              object\n",
       "to_station_name              object\n",
       "to_station_id                object\n",
       "start_latitude              float64\n",
       "start_longitude             float64\n",
       "end_latitude                float64\n",
       "end_longitude               float64\n",
       "user_type                    object\n",
       "dtype: object"
      ]
     },
     "execution_count": 80,
     "metadata": {},
     "output_type": "execute_result"
    }
   ],
   "source": [
    "df.dtypes"
   ]
  },
  {
   "cell_type": "markdown",
   "id": "b678d7ef-cac3-471e-8650-4c7be58124f6",
   "metadata": {},
   "source": [
    "### 4.1.14 Create new columns that extract the hour, date, day, and month"
   ]
  },
  {
   "cell_type": "code",
   "execution_count": 81,
   "id": "dce37abd-22d9-4272-96b1-752c9153199a",
   "metadata": {},
   "outputs": [
    {
     "data": {
      "text/html": [
       "<div>\n",
       "<style scoped>\n",
       "    .dataframe tbody tr th:only-of-type {\n",
       "        vertical-align: middle;\n",
       "    }\n",
       "\n",
       "    .dataframe tbody tr th {\n",
       "        vertical-align: top;\n",
       "    }\n",
       "\n",
       "    .dataframe thead th {\n",
       "        text-align: right;\n",
       "    }\n",
       "</style>\n",
       "<table border=\"1\" class=\"dataframe\">\n",
       "  <thead>\n",
       "    <tr style=\"text-align: right;\">\n",
       "      <th></th>\n",
       "      <th>trip_id</th>\n",
       "      <th>bike_type</th>\n",
       "      <th>start_time</th>\n",
       "      <th>end_time</th>\n",
       "      <th>from_station_name</th>\n",
       "      <th>from_station_id</th>\n",
       "      <th>to_station_name</th>\n",
       "      <th>to_station_id</th>\n",
       "      <th>start_latitude</th>\n",
       "      <th>start_longitude</th>\n",
       "      <th>end_latitude</th>\n",
       "      <th>end_longitude</th>\n",
       "      <th>user_type</th>\n",
       "      <th>hour</th>\n",
       "      <th>date</th>\n",
       "      <th>day</th>\n",
       "      <th>month</th>\n",
       "    </tr>\n",
       "  </thead>\n",
       "  <tbody>\n",
       "    <tr>\n",
       "      <th>0</th>\n",
       "      <td>E2E964A161F786AB</td>\n",
       "      <td>classic_bike</td>\n",
       "      <td>2023-08-07 19:37:47</td>\n",
       "      <td>2023-08-07 19:41:14</td>\n",
       "      <td>6 St &amp; Grand St</td>\n",
       "      <td>HB302</td>\n",
       "      <td>Madison St &amp; 10 St</td>\n",
       "      <td>HB503</td>\n",
       "      <td>40.744398</td>\n",
       "      <td>-74.034501</td>\n",
       "      <td>40.749943</td>\n",
       "      <td>-74.035865</td>\n",
       "      <td>member</td>\n",
       "      <td>19</td>\n",
       "      <td>7</td>\n",
       "      <td>Monday</td>\n",
       "      <td>August</td>\n",
       "    </tr>\n",
       "    <tr>\n",
       "      <th>1</th>\n",
       "      <td>0660F2E48E3BB87F</td>\n",
       "      <td>classic_bike</td>\n",
       "      <td>2023-08-01 13:16:22</td>\n",
       "      <td>2023-08-01 13:26:02</td>\n",
       "      <td>6 St &amp; Grand St</td>\n",
       "      <td>HB302</td>\n",
       "      <td>6 St &amp; Grand St</td>\n",
       "      <td>HB302</td>\n",
       "      <td>40.744398</td>\n",
       "      <td>-74.034501</td>\n",
       "      <td>40.744398</td>\n",
       "      <td>-74.034501</td>\n",
       "      <td>member</td>\n",
       "      <td>13</td>\n",
       "      <td>1</td>\n",
       "      <td>Tuesday</td>\n",
       "      <td>August</td>\n",
       "    </tr>\n",
       "  </tbody>\n",
       "</table>\n",
       "</div>"
      ],
      "text/plain": [
       "            trip_id     bike_type          start_time            end_time  \\\n",
       "0  E2E964A161F786AB  classic_bike 2023-08-07 19:37:47 2023-08-07 19:41:14   \n",
       "1  0660F2E48E3BB87F  classic_bike 2023-08-01 13:16:22 2023-08-01 13:26:02   \n",
       "\n",
       "  from_station_name from_station_id     to_station_name to_station_id  \\\n",
       "0   6 St & Grand St           HB302  Madison St & 10 St         HB503   \n",
       "1   6 St & Grand St           HB302     6 St & Grand St         HB302   \n",
       "\n",
       "   start_latitude  start_longitude  end_latitude  end_longitude user_type  \\\n",
       "0       40.744398       -74.034501     40.749943     -74.035865    member   \n",
       "1       40.744398       -74.034501     40.744398     -74.034501    member   \n",
       "\n",
       "   hour  date      day   month  \n",
       "0    19     7   Monday  August  \n",
       "1    13     1  Tuesday  August  "
      ]
     },
     "execution_count": 81,
     "metadata": {},
     "output_type": "execute_result"
    }
   ],
   "source": [
    "df['hour'] = df['start_time'].dt.hour # To extract the hour\n",
    "df['date'] = df['start_time'].dt.day #To extract the date\n",
    "df['day'] = df['start_time'].dt.day_name() # To extract the day of the week\n",
    "df['month'] = df['start_time'].dt.month_name() # To extract the month\n",
    "\n",
    "df.head(2)"
   ]
  },
  {
   "cell_type": "markdown",
   "id": "b6213e68-fadc-47f5-8b3e-b14794c6871e",
   "metadata": {},
   "source": [
    "### 4.1.15 Create a new column that calculates the duration of each ride"
   ]
  },
  {
   "cell_type": "code",
   "execution_count": 82,
   "id": "aa74146b-6422-46fe-879f-731af33243e3",
   "metadata": {},
   "outputs": [],
   "source": [
    "df['ride_duration'] = (df['end_time'] - df['start_time']).dt.total_seconds()/60"
   ]
  },
  {
   "cell_type": "code",
   "execution_count": 83,
   "id": "bac6e15a-60e3-4787-9abd-11b4baba750d",
   "metadata": {},
   "outputs": [
    {
     "data": {
      "text/html": [
       "<div>\n",
       "<style scoped>\n",
       "    .dataframe tbody tr th:only-of-type {\n",
       "        vertical-align: middle;\n",
       "    }\n",
       "\n",
       "    .dataframe tbody tr th {\n",
       "        vertical-align: top;\n",
       "    }\n",
       "\n",
       "    .dataframe thead th {\n",
       "        text-align: right;\n",
       "    }\n",
       "</style>\n",
       "<table border=\"1\" class=\"dataframe\">\n",
       "  <thead>\n",
       "    <tr style=\"text-align: right;\">\n",
       "      <th></th>\n",
       "      <th>trip_id</th>\n",
       "      <th>bike_type</th>\n",
       "      <th>start_time</th>\n",
       "      <th>end_time</th>\n",
       "      <th>from_station_name</th>\n",
       "      <th>from_station_id</th>\n",
       "      <th>to_station_name</th>\n",
       "      <th>to_station_id</th>\n",
       "      <th>start_latitude</th>\n",
       "      <th>start_longitude</th>\n",
       "      <th>end_latitude</th>\n",
       "      <th>end_longitude</th>\n",
       "      <th>user_type</th>\n",
       "      <th>hour</th>\n",
       "      <th>date</th>\n",
       "      <th>day</th>\n",
       "      <th>month</th>\n",
       "      <th>ride_duration</th>\n",
       "    </tr>\n",
       "  </thead>\n",
       "  <tbody>\n",
       "    <tr>\n",
       "      <th>0</th>\n",
       "      <td>E2E964A161F786AB</td>\n",
       "      <td>classic_bike</td>\n",
       "      <td>2023-08-07 19:37:47</td>\n",
       "      <td>2023-08-07 19:41:14</td>\n",
       "      <td>6 St &amp; Grand St</td>\n",
       "      <td>HB302</td>\n",
       "      <td>Madison St &amp; 10 St</td>\n",
       "      <td>HB503</td>\n",
       "      <td>40.744398</td>\n",
       "      <td>-74.034501</td>\n",
       "      <td>40.749943</td>\n",
       "      <td>-74.035865</td>\n",
       "      <td>member</td>\n",
       "      <td>19</td>\n",
       "      <td>7</td>\n",
       "      <td>Monday</td>\n",
       "      <td>August</td>\n",
       "      <td>3.450000</td>\n",
       "    </tr>\n",
       "    <tr>\n",
       "      <th>1</th>\n",
       "      <td>0660F2E48E3BB87F</td>\n",
       "      <td>classic_bike</td>\n",
       "      <td>2023-08-01 13:16:22</td>\n",
       "      <td>2023-08-01 13:26:02</td>\n",
       "      <td>6 St &amp; Grand St</td>\n",
       "      <td>HB302</td>\n",
       "      <td>6 St &amp; Grand St</td>\n",
       "      <td>HB302</td>\n",
       "      <td>40.744398</td>\n",
       "      <td>-74.034501</td>\n",
       "      <td>40.744398</td>\n",
       "      <td>-74.034501</td>\n",
       "      <td>member</td>\n",
       "      <td>13</td>\n",
       "      <td>1</td>\n",
       "      <td>Tuesday</td>\n",
       "      <td>August</td>\n",
       "      <td>9.666667</td>\n",
       "    </tr>\n",
       "  </tbody>\n",
       "</table>\n",
       "</div>"
      ],
      "text/plain": [
       "            trip_id     bike_type          start_time            end_time  \\\n",
       "0  E2E964A161F786AB  classic_bike 2023-08-07 19:37:47 2023-08-07 19:41:14   \n",
       "1  0660F2E48E3BB87F  classic_bike 2023-08-01 13:16:22 2023-08-01 13:26:02   \n",
       "\n",
       "  from_station_name from_station_id     to_station_name to_station_id  \\\n",
       "0   6 St & Grand St           HB302  Madison St & 10 St         HB503   \n",
       "1   6 St & Grand St           HB302     6 St & Grand St         HB302   \n",
       "\n",
       "   start_latitude  start_longitude  end_latitude  end_longitude user_type  \\\n",
       "0       40.744398       -74.034501     40.749943     -74.035865    member   \n",
       "1       40.744398       -74.034501     40.744398     -74.034501    member   \n",
       "\n",
       "   hour  date      day   month  ride_duration  \n",
       "0    19     7   Monday  August       3.450000  \n",
       "1    13     1  Tuesday  August       9.666667  "
      ]
     },
     "execution_count": 83,
     "metadata": {},
     "output_type": "execute_result"
    }
   ],
   "source": [
    "df.head(2)"
   ]
  },
  {
   "cell_type": "markdown",
   "id": "9cac65d5-e4e0-476c-8000-f777d54b692e",
   "metadata": {},
   "source": [
    "### 4.1.16 Verify if the dataframe includes negative entries "
   ]
  },
  {
   "cell_type": "code",
   "execution_count": 84,
   "id": "9b654b09-bc18-4b46-9687-c99b29fd2cc7",
   "metadata": {},
   "outputs": [
    {
     "data": {
      "text/plain": [
       "trip_id              7\n",
       "bike_type            7\n",
       "start_time           7\n",
       "end_time             7\n",
       "from_station_name    7\n",
       "from_station_id      7\n",
       "to_station_name      7\n",
       "to_station_id        7\n",
       "start_latitude       7\n",
       "start_longitude      7\n",
       "end_latitude         7\n",
       "end_longitude        7\n",
       "user_type            7\n",
       "hour                 7\n",
       "date                 7\n",
       "day                  7\n",
       "month                7\n",
       "ride_duration        7\n",
       "dtype: int64"
      ]
     },
     "execution_count": 84,
     "metadata": {},
     "output_type": "execute_result"
    }
   ],
   "source": [
    "df[df['ride_duration']< 0 ].count()"
   ]
  },
  {
   "cell_type": "markdown",
   "id": "dd35c3a9-ba19-40cb-9cd9-5956aef3663f",
   "metadata": {},
   "source": [
    "#### There are 7 rides with negative ride_durations. The negative entries are due to instances where bikes were taken out of docks for quality checked. "
   ]
  },
  {
   "cell_type": "markdown",
   "id": "8fb1034b-ee61-4a48-a40e-64851a1c0f6e",
   "metadata": {},
   "source": [
    "### 4.1.17 Filter out rows with negative ride durations"
   ]
  },
  {
   "cell_type": "code",
   "execution_count": 85,
   "id": "cd7b21b3-c5e8-4109-b846-5e49137872a0",
   "metadata": {},
   "outputs": [],
   "source": [
    " df = df[df['ride_duration'] >= 0 ]"
   ]
  },
  {
   "cell_type": "code",
   "execution_count": 86,
   "id": "7acd0e91-159b-434c-bccc-66f0cff05fdf",
   "metadata": {},
   "outputs": [
    {
     "data": {
      "text/plain": [
       "trip_id              0\n",
       "bike_type            0\n",
       "start_time           0\n",
       "end_time             0\n",
       "from_station_name    0\n",
       "from_station_id      0\n",
       "to_station_name      0\n",
       "to_station_id        0\n",
       "start_latitude       0\n",
       "start_longitude      0\n",
       "end_latitude         0\n",
       "end_longitude        0\n",
       "user_type            0\n",
       "hour                 0\n",
       "date                 0\n",
       "day                  0\n",
       "month                0\n",
       "ride_duration        0\n",
       "dtype: int64"
      ]
     },
     "execution_count": 86,
     "metadata": {},
     "output_type": "execute_result"
    }
   ],
   "source": [
    "df[df['ride_duration']< 0 ].count()"
   ]
  },
  {
   "cell_type": "markdown",
   "id": "8683efde-bb29-43a9-9848-bf268136b148",
   "metadata": {},
   "source": [
    "### 4.1.18 Export the cleaned dataset as a .csv file"
   ]
  },
  {
   "cell_type": "code",
   "execution_count": 87,
   "id": "22e214bb-5964-46bc-bd04-e40a460ba53f",
   "metadata": {},
   "outputs": [],
   "source": [
    "df.to_csv(\"cycle_cleaned.csv\")"
   ]
  },
  {
   "cell_type": "markdown",
   "id": "fd94343d-d635-498f-a24c-ca7d15e1f088",
   "metadata": {},
   "source": [
    "## 5. CONDUCT DESCRIPTIVE ANALYSIS: \n",
    "### Analyze and Share Phase\n",
    "The \"Analyze\" phase is where we perform exploratory data analysis, in which we analyze the cleaned data through aggregation (sum, max, mean etc), calculation, correlation etc. This is also the phase where we identify what story does the data tell, their relationships and trends.\n",
    "\n",
    "The \"Share\" phase is where we decide what to present and share with the stakeholders. Do we present our data through reports, dashboards or meetings etc. This is also the phase where we create compelling data visualizations that provides insights for the stakeholders.\n",
    "\n",
    "Deliverable: A summary of analysis with supporting visualizations and key findings"
   ]
  },
  {
   "cell_type": "markdown",
   "id": "65291276-94a1-464c-ab6f-fe61a51ee301",
   "metadata": {},
   "source": [
    "### 5.1 A summary of your analysis with visualizations"
   ]
  },
  {
   "cell_type": "markdown",
   "id": "eb021aa2-2dfb-4ef4-b0d4-10d3b8eddf48",
   "metadata": {},
   "source": [
    "#### The analysis will be done using Pandas and matplotlib for the data visualizations The questions that I explored were: \n",
    "1. How do annual members and casual riders use Citi bikes di\u0000erently?\n",
    "- How many were taken by casual and membered riders?\n",
    "2. Numbers of rides across hours, weedays,and month\n",
    "\n",
    "3. Which type of bikes are most popular by member types across the months?\n"
   ]
  },
  {
   "cell_type": "markdown",
   "id": "35fb1820-02be-4adf-9463-1c8c8f570f05",
   "metadata": {},
   "source": [
    "### 5.1.1 Importing Libraries"
   ]
  },
  {
   "cell_type": "code",
   "execution_count": 88,
   "id": "ee58dfa7-15f4-44b5-86c2-c9b3d99c15cf",
   "metadata": {},
   "outputs": [],
   "source": [
    "import numpy as np\n",
    "import pandas as pd\n",
    "\n",
    "import seaborn as sns\n",
    "import matplotlib.pyplot as plt"
   ]
  },
  {
   "cell_type": "markdown",
   "id": "3a7b74a5-441c-4edd-97dc-69645e681e46",
   "metadata": {},
   "source": [
    "### 5.1.2 Importing Data"
   ]
  },
  {
   "cell_type": "code",
   "execution_count": 89,
   "id": "64699f23-476a-44a4-b243-48c47ba9dc3f",
   "metadata": {},
   "outputs": [
    {
     "data": {
      "text/html": [
       "<div>\n",
       "<style scoped>\n",
       "    .dataframe tbody tr th:only-of-type {\n",
       "        vertical-align: middle;\n",
       "    }\n",
       "\n",
       "    .dataframe tbody tr th {\n",
       "        vertical-align: top;\n",
       "    }\n",
       "\n",
       "    .dataframe thead th {\n",
       "        text-align: right;\n",
       "    }\n",
       "</style>\n",
       "<table border=\"1\" class=\"dataframe\">\n",
       "  <thead>\n",
       "    <tr style=\"text-align: right;\">\n",
       "      <th></th>\n",
       "      <th>Unnamed: 0</th>\n",
       "      <th>trip_id</th>\n",
       "      <th>bike_type</th>\n",
       "      <th>start_time</th>\n",
       "      <th>end_time</th>\n",
       "      <th>from_station_name</th>\n",
       "      <th>from_station_id</th>\n",
       "      <th>to_station_name</th>\n",
       "      <th>to_station_id</th>\n",
       "      <th>start_latitude</th>\n",
       "      <th>start_longitude</th>\n",
       "      <th>end_latitude</th>\n",
       "      <th>end_longitude</th>\n",
       "      <th>user_type</th>\n",
       "      <th>hour</th>\n",
       "      <th>date</th>\n",
       "      <th>day</th>\n",
       "      <th>month</th>\n",
       "      <th>ride_duration</th>\n",
       "    </tr>\n",
       "  </thead>\n",
       "  <tbody>\n",
       "    <tr>\n",
       "      <th>0</th>\n",
       "      <td>0</td>\n",
       "      <td>E2E964A161F786AB</td>\n",
       "      <td>classic_bike</td>\n",
       "      <td>2023-08-07 19:37:47</td>\n",
       "      <td>2023-08-07 19:41:14</td>\n",
       "      <td>6 St &amp; Grand St</td>\n",
       "      <td>HB302</td>\n",
       "      <td>Madison St &amp; 10 St</td>\n",
       "      <td>HB503</td>\n",
       "      <td>40.744398</td>\n",
       "      <td>-74.034501</td>\n",
       "      <td>40.749943</td>\n",
       "      <td>-74.035865</td>\n",
       "      <td>member</td>\n",
       "      <td>19</td>\n",
       "      <td>7</td>\n",
       "      <td>Monday</td>\n",
       "      <td>August</td>\n",
       "      <td>3.450000</td>\n",
       "    </tr>\n",
       "    <tr>\n",
       "      <th>1</th>\n",
       "      <td>1</td>\n",
       "      <td>0660F2E48E3BB87F</td>\n",
       "      <td>classic_bike</td>\n",
       "      <td>2023-08-01 13:16:22</td>\n",
       "      <td>2023-08-01 13:26:02</td>\n",
       "      <td>6 St &amp; Grand St</td>\n",
       "      <td>HB302</td>\n",
       "      <td>6 St &amp; Grand St</td>\n",
       "      <td>HB302</td>\n",
       "      <td>40.744398</td>\n",
       "      <td>-74.034501</td>\n",
       "      <td>40.744398</td>\n",
       "      <td>-74.034501</td>\n",
       "      <td>member</td>\n",
       "      <td>13</td>\n",
       "      <td>1</td>\n",
       "      <td>Tuesday</td>\n",
       "      <td>August</td>\n",
       "      <td>9.666667</td>\n",
       "    </tr>\n",
       "    <tr>\n",
       "      <th>2</th>\n",
       "      <td>2</td>\n",
       "      <td>940FC7C675232897</td>\n",
       "      <td>classic_bike</td>\n",
       "      <td>2023-08-15 17:28:23</td>\n",
       "      <td>2023-08-15 17:50:35</td>\n",
       "      <td>Heights Elevator</td>\n",
       "      <td>JC059</td>\n",
       "      <td>Heights Elevator</td>\n",
       "      <td>JC059</td>\n",
       "      <td>40.748721</td>\n",
       "      <td>-74.040480</td>\n",
       "      <td>40.748716</td>\n",
       "      <td>-74.040443</td>\n",
       "      <td>member</td>\n",
       "      <td>17</td>\n",
       "      <td>15</td>\n",
       "      <td>Tuesday</td>\n",
       "      <td>August</td>\n",
       "      <td>22.200000</td>\n",
       "    </tr>\n",
       "  </tbody>\n",
       "</table>\n",
       "</div>"
      ],
      "text/plain": [
       "   Unnamed: 0           trip_id     bike_type           start_time  \\\n",
       "0           0  E2E964A161F786AB  classic_bike  2023-08-07 19:37:47   \n",
       "1           1  0660F2E48E3BB87F  classic_bike  2023-08-01 13:16:22   \n",
       "2           2  940FC7C675232897  classic_bike  2023-08-15 17:28:23   \n",
       "\n",
       "              end_time from_station_name from_station_id     to_station_name  \\\n",
       "0  2023-08-07 19:41:14   6 St & Grand St           HB302  Madison St & 10 St   \n",
       "1  2023-08-01 13:26:02   6 St & Grand St           HB302     6 St & Grand St   \n",
       "2  2023-08-15 17:50:35  Heights Elevator           JC059    Heights Elevator   \n",
       "\n",
       "  to_station_id  start_latitude  start_longitude  end_latitude  end_longitude  \\\n",
       "0         HB503       40.744398       -74.034501     40.749943     -74.035865   \n",
       "1         HB302       40.744398       -74.034501     40.744398     -74.034501   \n",
       "2         JC059       40.748721       -74.040480     40.748716     -74.040443   \n",
       "\n",
       "  user_type  hour  date      day   month  ride_duration  \n",
       "0    member    19     7   Monday  August       3.450000  \n",
       "1    member    13     1  Tuesday  August       9.666667  \n",
       "2    member    17    15  Tuesday  August      22.200000  "
      ]
     },
     "execution_count": 89,
     "metadata": {},
     "output_type": "execute_result"
    }
   ],
   "source": [
    "df = pd.read_csv('cycle_cleaned.csv')\n",
    "df.head(3)"
   ]
  },
  {
   "cell_type": "markdown",
   "id": "66addbcc-857e-4694-b99d-b0eaf9534d6e",
   "metadata": {},
   "source": [
    "### 5.1.3 Out of all the rides during 2023, how many were taken by casual and membered riders?"
   ]
  },
  {
   "cell_type": "code",
   "execution_count": 90,
   "id": "09fbb940-88f9-45d7-8835-dc16c9057e78",
   "metadata": {},
   "outputs": [
    {
     "data": {
      "text/plain": [
       "985525"
      ]
     },
     "execution_count": 90,
     "metadata": {},
     "output_type": "execute_result"
    }
   ],
   "source": [
    "#Counts the total rides\n",
    "\n",
    "df['trip_id'].value_counts().sum()"
   ]
  },
  {
   "cell_type": "code",
   "execution_count": 91,
   "id": "dbd42c58-6005-472c-b13c-51b9f2a61d0d",
   "metadata": {},
   "outputs": [
    {
     "data": {
      "text/html": [
       "<div>\n",
       "<style scoped>\n",
       "    .dataframe tbody tr th:only-of-type {\n",
       "        vertical-align: middle;\n",
       "    }\n",
       "\n",
       "    .dataframe tbody tr th {\n",
       "        vertical-align: top;\n",
       "    }\n",
       "\n",
       "    .dataframe thead th {\n",
       "        text-align: right;\n",
       "    }\n",
       "</style>\n",
       "<table border=\"1\" class=\"dataframe\">\n",
       "  <thead>\n",
       "    <tr style=\"text-align: right;\">\n",
       "      <th></th>\n",
       "      <th>trip_id</th>\n",
       "    </tr>\n",
       "    <tr>\n",
       "      <th>user_type</th>\n",
       "      <th></th>\n",
       "    </tr>\n",
       "  </thead>\n",
       "  <tbody>\n",
       "    <tr>\n",
       "      <th>casual</th>\n",
       "      <td>255302</td>\n",
       "    </tr>\n",
       "    <tr>\n",
       "      <th>member</th>\n",
       "      <td>730223</td>\n",
       "    </tr>\n",
       "  </tbody>\n",
       "</table>\n",
       "</div>"
      ],
      "text/plain": [
       "           trip_id\n",
       "user_type         \n",
       "casual      255302\n",
       "member      730223"
      ]
     },
     "execution_count": 91,
     "metadata": {},
     "output_type": "execute_result"
    }
   ],
   "source": [
    "df.groupby('user_type', as_index = True ).agg({'trip_id':'count'})"
   ]
  },
  {
   "cell_type": "markdown",
   "id": "5c7e73af-1dae-4f67-a75a-704dbb57b67f",
   "metadata": {},
   "source": [
    "We can see that of the 985.5K rides during 2023, 255.3K of rides were from casual riders while 730.2 K were from membered riders. This also implied that there were 474.9K more rides taken by the members riders. "
   ]
  },
  {
   "cell_type": "markdown",
   "id": "f673636d-0818-43e1-9016-9c3bc3ff42c4",
   "metadata": {},
   "source": [
    "### 5.1.4 Percentage of the casual and membered riders"
   ]
  },
  {
   "cell_type": "code",
   "execution_count": 92,
   "id": "b17cc9c1-3a91-4aab-849e-ee8d58815a4f",
   "metadata": {},
   "outputs": [
    {
     "data": {
      "image/png": "[encoded data removed]",
      "text/plain": [
       "<Figure size 360x432 with 1 Axes>"
      ]
     },
     "metadata": {},
     "output_type": "display_data"
    }
   ],
   "source": [
    "df_user_type = df.groupby(['user_type' ], as_index = True).agg({'trip_id': 'count'})\n",
    "\n",
    "df_user_type['trip_id'].plot(kind='pie',\n",
    "                            figsize=(5, 6),\n",
    "                            autopct='%1.1f%%', # add in percentages\n",
    "                            startangle=90,     # start angle 90° \n",
    "                            shadow=True,       # add shadow      \n",
    "                            )\n",
    "\n",
    "plt.title('Percentage of Total Rides by User Type (2023)')\n",
    "plt.axis('equal') # Sets the pie chart to look like a circle.\n",
    "plt.legend(labels=df_user_type.index, loc='upper left') \n",
    "\n",
    "\n",
    "plt.show()"
   ]
  },
  {
   "cell_type": "markdown",
   "id": "d9e11531-634a-465d-9b3c-52f216da680d",
   "metadata": {},
   "source": [
    "The pie chart shows how the total number of trips is divided between the two types of users. Most of the rides account for the members compared to casual riders."
   ]
  },
  {
   "cell_type": "markdown",
   "id": "d60ba491-4ee9-4461-8f11-b1e022f67ee7",
   "metadata": {},
   "source": [
    "### 5.1.5 Numbers of rides by member types across hours."
   ]
  },
  {
   "cell_type": "code",
   "execution_count": 93,
   "id": "fc397f59-1032-4fca-af39-bab4fc0b20c4",
   "metadata": {},
   "outputs": [
    {
     "data": {
      "text/html": [
       "<div>\n",
       "<style scoped>\n",
       "    .dataframe tbody tr th:only-of-type {\n",
       "        vertical-align: middle;\n",
       "    }\n",
       "\n",
       "    .dataframe tbody tr th {\n",
       "        vertical-align: top;\n",
       "    }\n",
       "\n",
       "    .dataframe thead th {\n",
       "        text-align: right;\n",
       "    }\n",
       "</style>\n",
       "<table border=\"1\" class=\"dataframe\">\n",
       "  <thead>\n",
       "    <tr style=\"text-align: right;\">\n",
       "      <th></th>\n",
       "      <th>user_type</th>\n",
       "      <th>hour</th>\n",
       "      <th>trip_id</th>\n",
       "    </tr>\n",
       "  </thead>\n",
       "  <tbody>\n",
       "    <tr>\n",
       "      <th>0</th>\n",
       "      <td>casual</td>\n",
       "      <td>0</td>\n",
       "      <td>4685</td>\n",
       "    </tr>\n",
       "    <tr>\n",
       "      <th>1</th>\n",
       "      <td>casual</td>\n",
       "      <td>1</td>\n",
       "      <td>3402</td>\n",
       "    </tr>\n",
       "    <tr>\n",
       "      <th>2</th>\n",
       "      <td>casual</td>\n",
       "      <td>2</td>\n",
       "      <td>2120</td>\n",
       "    </tr>\n",
       "    <tr>\n",
       "      <th>3</th>\n",
       "      <td>casual</td>\n",
       "      <td>3</td>\n",
       "      <td>1164</td>\n",
       "    </tr>\n",
       "    <tr>\n",
       "      <th>4</th>\n",
       "      <td>casual</td>\n",
       "      <td>4</td>\n",
       "      <td>1018</td>\n",
       "    </tr>\n",
       "    <tr>\n",
       "      <th>5</th>\n",
       "      <td>casual</td>\n",
       "      <td>5</td>\n",
       "      <td>1637</td>\n",
       "    </tr>\n",
       "    <tr>\n",
       "      <th>6</th>\n",
       "      <td>casual</td>\n",
       "      <td>6</td>\n",
       "      <td>3835</td>\n",
       "    </tr>\n",
       "    <tr>\n",
       "      <th>7</th>\n",
       "      <td>casual</td>\n",
       "      <td>7</td>\n",
       "      <td>6874</td>\n",
       "    </tr>\n",
       "    <tr>\n",
       "      <th>8</th>\n",
       "      <td>casual</td>\n",
       "      <td>8</td>\n",
       "      <td>9408</td>\n",
       "    </tr>\n",
       "    <tr>\n",
       "      <th>9</th>\n",
       "      <td>casual</td>\n",
       "      <td>9</td>\n",
       "      <td>8819</td>\n",
       "    </tr>\n",
       "    <tr>\n",
       "      <th>10</th>\n",
       "      <td>casual</td>\n",
       "      <td>10</td>\n",
       "      <td>9988</td>\n",
       "    </tr>\n",
       "    <tr>\n",
       "      <th>11</th>\n",
       "      <td>casual</td>\n",
       "      <td>11</td>\n",
       "      <td>12154</td>\n",
       "    </tr>\n",
       "    <tr>\n",
       "      <th>12</th>\n",
       "      <td>casual</td>\n",
       "      <td>12</td>\n",
       "      <td>14045</td>\n",
       "    </tr>\n",
       "    <tr>\n",
       "      <th>13</th>\n",
       "      <td>casual</td>\n",
       "      <td>13</td>\n",
       "      <td>14865</td>\n",
       "    </tr>\n",
       "    <tr>\n",
       "      <th>14</th>\n",
       "      <td>casual</td>\n",
       "      <td>14</td>\n",
       "      <td>15434</td>\n",
       "    </tr>\n",
       "    <tr>\n",
       "      <th>15</th>\n",
       "      <td>casual</td>\n",
       "      <td>15</td>\n",
       "      <td>17301</td>\n",
       "    </tr>\n",
       "    <tr>\n",
       "      <th>16</th>\n",
       "      <td>casual</td>\n",
       "      <td>16</td>\n",
       "      <td>19312</td>\n",
       "    </tr>\n",
       "    <tr>\n",
       "      <th>17</th>\n",
       "      <td>casual</td>\n",
       "      <td>17</td>\n",
       "      <td>24106</td>\n",
       "    </tr>\n",
       "    <tr>\n",
       "      <th>18</th>\n",
       "      <td>casual</td>\n",
       "      <td>18</td>\n",
       "      <td>24288</td>\n",
       "    </tr>\n",
       "    <tr>\n",
       "      <th>19</th>\n",
       "      <td>casual</td>\n",
       "      <td>19</td>\n",
       "      <td>19449</td>\n",
       "    </tr>\n",
       "    <tr>\n",
       "      <th>20</th>\n",
       "      <td>casual</td>\n",
       "      <td>20</td>\n",
       "      <td>14035</td>\n",
       "    </tr>\n",
       "    <tr>\n",
       "      <th>21</th>\n",
       "      <td>casual</td>\n",
       "      <td>21</td>\n",
       "      <td>11135</td>\n",
       "    </tr>\n",
       "    <tr>\n",
       "      <th>22</th>\n",
       "      <td>casual</td>\n",
       "      <td>22</td>\n",
       "      <td>9166</td>\n",
       "    </tr>\n",
       "    <tr>\n",
       "      <th>23</th>\n",
       "      <td>casual</td>\n",
       "      <td>23</td>\n",
       "      <td>7062</td>\n",
       "    </tr>\n",
       "    <tr>\n",
       "      <th>24</th>\n",
       "      <td>member</td>\n",
       "      <td>0</td>\n",
       "      <td>6672</td>\n",
       "    </tr>\n",
       "    <tr>\n",
       "      <th>25</th>\n",
       "      <td>member</td>\n",
       "      <td>1</td>\n",
       "      <td>3797</td>\n",
       "    </tr>\n",
       "    <tr>\n",
       "      <th>26</th>\n",
       "      <td>member</td>\n",
       "      <td>2</td>\n",
       "      <td>2274</td>\n",
       "    </tr>\n",
       "    <tr>\n",
       "      <th>27</th>\n",
       "      <td>member</td>\n",
       "      <td>3</td>\n",
       "      <td>1239</td>\n",
       "    </tr>\n",
       "    <tr>\n",
       "      <th>28</th>\n",
       "      <td>member</td>\n",
       "      <td>4</td>\n",
       "      <td>2139</td>\n",
       "    </tr>\n",
       "    <tr>\n",
       "      <th>29</th>\n",
       "      <td>member</td>\n",
       "      <td>5</td>\n",
       "      <td>7157</td>\n",
       "    </tr>\n",
       "    <tr>\n",
       "      <th>30</th>\n",
       "      <td>member</td>\n",
       "      <td>6</td>\n",
       "      <td>22669</td>\n",
       "    </tr>\n",
       "    <tr>\n",
       "      <th>31</th>\n",
       "      <td>member</td>\n",
       "      <td>7</td>\n",
       "      <td>43046</td>\n",
       "    </tr>\n",
       "    <tr>\n",
       "      <th>32</th>\n",
       "      <td>member</td>\n",
       "      <td>8</td>\n",
       "      <td>56147</td>\n",
       "    </tr>\n",
       "    <tr>\n",
       "      <th>33</th>\n",
       "      <td>member</td>\n",
       "      <td>9</td>\n",
       "      <td>34279</td>\n",
       "    </tr>\n",
       "    <tr>\n",
       "      <th>34</th>\n",
       "      <td>member</td>\n",
       "      <td>10</td>\n",
       "      <td>28656</td>\n",
       "    </tr>\n",
       "    <tr>\n",
       "      <th>35</th>\n",
       "      <td>member</td>\n",
       "      <td>11</td>\n",
       "      <td>32415</td>\n",
       "    </tr>\n",
       "    <tr>\n",
       "      <th>36</th>\n",
       "      <td>member</td>\n",
       "      <td>12</td>\n",
       "      <td>36454</td>\n",
       "    </tr>\n",
       "    <tr>\n",
       "      <th>37</th>\n",
       "      <td>member</td>\n",
       "      <td>13</td>\n",
       "      <td>37663</td>\n",
       "    </tr>\n",
       "    <tr>\n",
       "      <th>38</th>\n",
       "      <td>member</td>\n",
       "      <td>14</td>\n",
       "      <td>37663</td>\n",
       "    </tr>\n",
       "    <tr>\n",
       "      <th>39</th>\n",
       "      <td>member</td>\n",
       "      <td>15</td>\n",
       "      <td>41974</td>\n",
       "    </tr>\n",
       "    <tr>\n",
       "      <th>40</th>\n",
       "      <td>member</td>\n",
       "      <td>16</td>\n",
       "      <td>50915</td>\n",
       "    </tr>\n",
       "    <tr>\n",
       "      <th>41</th>\n",
       "      <td>member</td>\n",
       "      <td>17</td>\n",
       "      <td>71675</td>\n",
       "    </tr>\n",
       "    <tr>\n",
       "      <th>42</th>\n",
       "      <td>member</td>\n",
       "      <td>18</td>\n",
       "      <td>72005</td>\n",
       "    </tr>\n",
       "    <tr>\n",
       "      <th>43</th>\n",
       "      <td>member</td>\n",
       "      <td>19</td>\n",
       "      <td>51975</td>\n",
       "    </tr>\n",
       "    <tr>\n",
       "      <th>44</th>\n",
       "      <td>member</td>\n",
       "      <td>20</td>\n",
       "      <td>36166</td>\n",
       "    </tr>\n",
       "    <tr>\n",
       "      <th>45</th>\n",
       "      <td>member</td>\n",
       "      <td>21</td>\n",
       "      <td>24917</td>\n",
       "    </tr>\n",
       "    <tr>\n",
       "      <th>46</th>\n",
       "      <td>member</td>\n",
       "      <td>22</td>\n",
       "      <td>17004</td>\n",
       "    </tr>\n",
       "    <tr>\n",
       "      <th>47</th>\n",
       "      <td>member</td>\n",
       "      <td>23</td>\n",
       "      <td>11322</td>\n",
       "    </tr>\n",
       "  </tbody>\n",
       "</table>\n",
       "</div>"
      ],
      "text/plain": [
       "   user_type  hour  trip_id\n",
       "0     casual     0     4685\n",
       "1     casual     1     3402\n",
       "2     casual     2     2120\n",
       "3     casual     3     1164\n",
       "4     casual     4     1018\n",
       "5     casual     5     1637\n",
       "6     casual     6     3835\n",
       "7     casual     7     6874\n",
       "8     casual     8     9408\n",
       "9     casual     9     8819\n",
       "10    casual    10     9988\n",
       "11    casual    11    12154\n",
       "12    casual    12    14045\n",
       "13    casual    13    14865\n",
       "14    casual    14    15434\n",
       "15    casual    15    17301\n",
       "16    casual    16    19312\n",
       "17    casual    17    24106\n",
       "18    casual    18    24288\n",
       "19    casual    19    19449\n",
       "20    casual    20    14035\n",
       "21    casual    21    11135\n",
       "22    casual    22     9166\n",
       "23    casual    23     7062\n",
       "24    member     0     6672\n",
       "25    member     1     3797\n",
       "26    member     2     2274\n",
       "27    member     3     1239\n",
       "28    member     4     2139\n",
       "29    member     5     7157\n",
       "30    member     6    22669\n",
       "31    member     7    43046\n",
       "32    member     8    56147\n",
       "33    member     9    34279\n",
       "34    member    10    28656\n",
       "35    member    11    32415\n",
       "36    member    12    36454\n",
       "37    member    13    37663\n",
       "38    member    14    37663\n",
       "39    member    15    41974\n",
       "40    member    16    50915\n",
       "41    member    17    71675\n",
       "42    member    18    72005\n",
       "43    member    19    51975\n",
       "44    member    20    36166\n",
       "45    member    21    24917\n",
       "46    member    22    17004\n",
       "47    member    23    11322"
      ]
     },
     "execution_count": 93,
     "metadata": {},
     "output_type": "execute_result"
    }
   ],
   "source": [
    "df_hour = df.groupby(['user_type','hour' ], as_index=False).agg({'trip_id': 'count'})\n",
    "df_hour"
   ]
  },
  {
   "cell_type": "code",
   "execution_count": 94,
   "id": "09c33a93-54ff-4414-a171-50c9681ad6e4",
   "metadata": {},
   "outputs": [
    {
     "data": {
      "text/plain": [
       "<AxesSubplot:xlabel='hour', ylabel='trip_id'>"
      ]
     },
     "execution_count": 94,
     "metadata": {},
     "output_type": "execute_result"
    },
    {
     "data": {
      "image/png": "[encoded data removed]",
      "text/plain": [
       "<Figure size 864x432 with 1 Axes>"
      ]
     },
     "metadata": {
      "needs_background": "light"
     },
     "output_type": "display_data"
    }
   ],
   "source": [
    "plt.figure(figsize=(12, 6))\n",
    "sns.lineplot(data=df_hour , x='hour', y='trip_id', hue='user_type', palette='deep')\n"
   ]
  },
  {
   "cell_type": "markdown",
   "id": "29ac1128-9e4e-45bb-abc7-1bc89f27fd6b",
   "metadata": {},
   "source": [
    "The line plot displays the usage of bikes by two user types within a 24-hour period. The two lines fluctuate throughout the day. As far as I can tell, the plot shows that the most trips occur during the morning hours between 6 and 9 AM and in the late afternoon between 4 and 7 PM. We can assume this is due to peak hours in NYC."
   ]
  },
  {
   "cell_type": "markdown",
   "id": "547cc389-c4ce-4618-b48a-d187facb7c3e",
   "metadata": {},
   "source": [
    "### 5.1.6 Numbers of rides by member types across days."
   ]
  },
  {
   "cell_type": "code",
   "execution_count": 95,
   "id": "2de47b59-84f5-45c9-b51d-dfc37ac7447e",
   "metadata": {},
   "outputs": [],
   "source": [
    "df_user_type = df.groupby(['user_type', 'day' ], as_index = False).agg({'trip_id': 'count'})\n"
   ]
  },
  {
   "cell_type": "code",
   "execution_count": 96,
   "id": "1829a475-83e6-46f6-96f6-8d5a3ef77d94",
   "metadata": {},
   "outputs": [
    {
     "data": {
      "text/plain": [
       "<AxesSubplot:xlabel='day', ylabel='trip_id'>"
      ]
     },
     "execution_count": 96,
     "metadata": {},
     "output_type": "execute_result"
    },
    {
     "data": {
      "image/png": "[encoded data removed]",
      "text/plain": [
       "<Figure size 864x432 with 1 Axes>"
      ]
     },
     "metadata": {
      "needs_background": "light"
     },
     "output_type": "display_data"
    }
   ],
   "source": [
    "import plotly.express as px\n",
    "plt.figure(figsize=(12, 6))\n",
    "\n",
    "sns.barplot(data=df_user_type, x= 'day', y='trip_id', hue='user_type', palette='deep')\n"
   ]
  },
  {
   "cell_type": "markdown",
   "id": "a65dce7d-200f-40f2-a76b-02bd20880608",
   "metadata": {},
   "source": [
    "The plot reveals that bike usage by casual riders is very consistent throughout the week, with Saturday and Sunday showing the highest number of casual rides. Meanwhile, members have the most bike trips during the week, with Thursday, Tuesday, and Wednesday being the days with the highest number of trips. The second highest usage occurs on Friday and Monday, while Saturday and Sunday have the lowest usage for member riders.\n",
    "\n",
    "##### WHY?"
   ]
  },
  {
   "cell_type": "markdown",
   "id": "06ecd599-fb19-4af5-8f6d-63fa8b423eeb",
   "metadata": {},
   "source": [
    "### 5.1.7 Numbers of rides by member types across months"
   ]
  },
  {
   "cell_type": "code",
   "execution_count": 97,
   "id": "bd3bfbac-cbfe-4a34-a847-6ad7b6f61c64",
   "metadata": {},
   "outputs": [],
   "source": [
    "d1 = df.groupby(['user_type','month'], as_index = False).agg({'trip_id':'count'})"
   ]
  },
  {
   "cell_type": "code",
   "execution_count": 98,
   "id": "e185eab9-f328-4af4-9c04-74db51422cf7",
   "metadata": {},
   "outputs": [
    {
     "data": {
      "text/plain": [
       "<AxesSubplot:xlabel='month', ylabel='trip_id'>"
      ]
     },
     "execution_count": 98,
     "metadata": {},
     "output_type": "execute_result"
    },
    {
     "data": {
      "image/png": "[encoded data removed]",
      "text/plain": [
       "<Figure size 864x432 with 1 Axes>"
      ]
     },
     "metadata": {
      "needs_background": "light"
     },
     "output_type": "display_data"
    }
   ],
   "source": [
    "plt.figure(figsize=(12, 6))\n",
    "sns.barplot(data=d1 , x='month', y='trip_id', hue='user_type', palette='deep')\n",
    "\n"
   ]
  },
  {
   "cell_type": "markdown",
   "id": "d1492602-8cce-4bb4-83e1-c5fc36e1e672",
   "metadata": {},
   "source": [
    "The bar chart shows the number of bike uses throughout the year. The plot reveals that most trips are made by members, with December, February, and January showing the lowest usage for them. In contrast, June, July, and August have the highest usage for casual riders."
   ]
  },
  {
   "cell_type": "markdown",
   "id": "42b6b709-9df2-4c79-b743-01308a21b8c1",
   "metadata": {},
   "source": [
    "## 5.2 Ride durations"
   ]
  },
  {
   "cell_type": "code",
   "execution_count": 99,
   "id": "4ae04533-2427-4a9b-a0c7-0e104f7c3b73",
   "metadata": {},
   "outputs": [
    {
     "data": {
      "text/html": [
       "<div>\n",
       "<style scoped>\n",
       "    .dataframe tbody tr th:only-of-type {\n",
       "        vertical-align: middle;\n",
       "    }\n",
       "\n",
       "    .dataframe tbody tr th {\n",
       "        vertical-align: top;\n",
       "    }\n",
       "\n",
       "    .dataframe thead th {\n",
       "        text-align: right;\n",
       "    }\n",
       "</style>\n",
       "<table border=\"1\" class=\"dataframe\">\n",
       "  <thead>\n",
       "    <tr style=\"text-align: right;\">\n",
       "      <th></th>\n",
       "      <th></th>\n",
       "      <th>ride_duration</th>\n",
       "    </tr>\n",
       "    <tr>\n",
       "      <th>user_type</th>\n",
       "      <th>month</th>\n",
       "      <th></th>\n",
       "    </tr>\n",
       "  </thead>\n",
       "  <tbody>\n",
       "    <tr>\n",
       "      <th rowspan=\"12\" valign=\"top\">casual</th>\n",
       "      <th>January</th>\n",
       "      <td>15.191435</td>\n",
       "    </tr>\n",
       "    <tr>\n",
       "      <th>February</th>\n",
       "      <td>13.350248</td>\n",
       "    </tr>\n",
       "    <tr>\n",
       "      <th>March</th>\n",
       "      <td>14.163266</td>\n",
       "    </tr>\n",
       "    <tr>\n",
       "      <th>April</th>\n",
       "      <td>18.632430</td>\n",
       "    </tr>\n",
       "    <tr>\n",
       "      <th>May</th>\n",
       "      <td>19.956730</td>\n",
       "    </tr>\n",
       "    <tr>\n",
       "      <th>June</th>\n",
       "      <td>18.291195</td>\n",
       "    </tr>\n",
       "    <tr>\n",
       "      <th>July</th>\n",
       "      <td>17.862522</td>\n",
       "    </tr>\n",
       "    <tr>\n",
       "      <th>August</th>\n",
       "      <td>16.663504</td>\n",
       "    </tr>\n",
       "    <tr>\n",
       "      <th>September</th>\n",
       "      <td>15.594933</td>\n",
       "    </tr>\n",
       "    <tr>\n",
       "      <th>October</th>\n",
       "      <td>15.171065</td>\n",
       "    </tr>\n",
       "    <tr>\n",
       "      <th>November</th>\n",
       "      <td>12.838088</td>\n",
       "    </tr>\n",
       "    <tr>\n",
       "      <th>December</th>\n",
       "      <td>12.123799</td>\n",
       "    </tr>\n",
       "    <tr>\n",
       "      <th rowspan=\"12\" valign=\"top\">member</th>\n",
       "      <th>January</th>\n",
       "      <td>8.682465</td>\n",
       "    </tr>\n",
       "    <tr>\n",
       "      <th>February</th>\n",
       "      <td>7.659009</td>\n",
       "    </tr>\n",
       "    <tr>\n",
       "      <th>March</th>\n",
       "      <td>7.742676</td>\n",
       "    </tr>\n",
       "    <tr>\n",
       "      <th>April</th>\n",
       "      <td>8.232595</td>\n",
       "    </tr>\n",
       "    <tr>\n",
       "      <th>May</th>\n",
       "      <td>9.426967</td>\n",
       "    </tr>\n",
       "    <tr>\n",
       "      <th>June</th>\n",
       "      <td>9.213381</td>\n",
       "    </tr>\n",
       "    <tr>\n",
       "      <th>July</th>\n",
       "      <td>9.260834</td>\n",
       "    </tr>\n",
       "    <tr>\n",
       "      <th>August</th>\n",
       "      <td>8.670632</td>\n",
       "    </tr>\n",
       "    <tr>\n",
       "      <th>September</th>\n",
       "      <td>8.739472</td>\n",
       "    </tr>\n",
       "    <tr>\n",
       "      <th>October</th>\n",
       "      <td>8.878356</td>\n",
       "    </tr>\n",
       "    <tr>\n",
       "      <th>November</th>\n",
       "      <td>7.629789</td>\n",
       "    </tr>\n",
       "    <tr>\n",
       "      <th>December</th>\n",
       "      <td>7.206249</td>\n",
       "    </tr>\n",
       "  </tbody>\n",
       "</table>\n",
       "</div>"
      ],
      "text/plain": [
       "                     ride_duration\n",
       "user_type month                   \n",
       "casual    January        15.191435\n",
       "          February       13.350248\n",
       "          March          14.163266\n",
       "          April          18.632430\n",
       "          May            19.956730\n",
       "          June           18.291195\n",
       "          July           17.862522\n",
       "          August         16.663504\n",
       "          September      15.594933\n",
       "          October        15.171065\n",
       "          November       12.838088\n",
       "          December       12.123799\n",
       "member    January         8.682465\n",
       "          February        7.659009\n",
       "          March           7.742676\n",
       "          April           8.232595\n",
       "          May             9.426967\n",
       "          June            9.213381\n",
       "          July            9.260834\n",
       "          August          8.670632\n",
       "          September       8.739472\n",
       "          October         8.878356\n",
       "          November        7.629789\n",
       "          December        7.206249"
      ]
     },
     "execution_count": 99,
     "metadata": {},
     "output_type": "execute_result"
    }
   ],
   "source": [
    "month_ordered = ['January', 'February', 'March', 'April', 'May', 'June', 'July', 'August', 'September', 'October',\n",
    "               'November', 'December']\n",
    "\n",
    "df['month'] = pd.Categorical(df['month'], categories=month_ordered, ordered=True) #Order the months\n",
    "df_user_type = df.groupby(['user_type', 'month'], as_index = True).agg({'ride_duration': 'mean'})\n",
    "df_user_type"
   ]
  },
  {
   "cell_type": "code",
   "execution_count": 100,
   "id": "9c836af9-c0c4-4b25-96dc-6431a9783cc7",
   "metadata": {},
   "outputs": [
    {
     "data": {
      "text/plain": [
       "<AxesSubplot:xlabel='month', ylabel='ride_duration'>"
      ]
     },
     "execution_count": 100,
     "metadata": {},
     "output_type": "execute_result"
    },
    {
     "data": {
      "image/png": "[encoded data removed]",
      "text/plain": [
       "<Figure size 864x432 with 1 Axes>"
      ]
     },
     "metadata": {
      "needs_background": "light"
     },
     "output_type": "display_data"
    }
   ],
   "source": [
    "plt.figure(figsize=(12, 6))\n",
    "sns.lineplot(data=df_user_type , x='month', y='ride_duration', hue='user_type', palette='deep')\n"
   ]
  },
  {
   "cell_type": "markdown",
   "id": "27b5efe8-d26f-482a-a961-b26b3f97d98e",
   "metadata": {},
   "source": [
    "The line chart shows that casual riders tend to have longer ride durations compared to members. For casual rides, the highest ride durations occur between March and October. Additionally, the ride durations for casual riders remain consistent throughout the day."
   ]
  },
  {
   "cell_type": "markdown",
   "id": "5eca0bc5-b998-4195-93f7-4bc58ef67aba",
   "metadata": {},
   "source": [
    "## 5.3 Type of bikes"
   ]
  },
  {
   "cell_type": "markdown",
   "id": "4358b1ab-6e95-41f1-b4c7-1328942c3a2a",
   "metadata": {},
   "source": [
    "### 5.3.1 Which types of bikes are most popular"
   ]
  },
  {
   "cell_type": "code",
   "execution_count": 101,
   "id": "e25d8e6f-da2f-4c3a-a7e4-afa2c12b63eb",
   "metadata": {
    "tags": []
   },
   "outputs": [],
   "source": [
    "df_bike_type = df.groupby(['bike_type'], as_index = True).agg({'trip_id':'count'})"
   ]
  },
  {
   "cell_type": "code",
   "execution_count": 102,
   "id": "5d474b08-40b6-4002-9b6c-3f90ced65c96",
   "metadata": {
    "tags": []
   },
   "outputs": [
    {
     "data": {
      "image/png": "[encoded data removed]",
      "text/plain": [
       "<Figure size 360x432 with 1 Axes>"
      ]
     },
     "metadata": {},
     "output_type": "display_data"
    }
   ],
   "source": [
    "plt.figure(figsize=(12, 6))\n",
    "\n",
    "# Create a stacked bar chart\n",
    "df_bike_type['trip_id'].plot(kind='pie',\n",
    "                            figsize=(5, 6),\n",
    "                            autopct='%1.1f%%', # add in percentages\n",
    "                            startangle=90,     # start angle 90° \n",
    "                            shadow=True,       # add shadow      \n",
    "                            )\n",
    "\n",
    "plt.title('Percentage of bike type prefer by user (2023)')\n",
    "plt.axis('equal') # Sets the pie chart to look like a circle.\n",
    "plt.legend(labels=df_bike_type.index, loc='upper left', fontsize = 8) \n",
    "plt.show()"
   ]
  },
  {
   "cell_type": "markdown",
   "id": "364858e9-3746-4806-bee8-b869db7bd73b",
   "metadata": {},
   "source": [
    "The plot displays the most preferred mode of transportation by Citi Bike users in NYC, is the classic bike."
   ]
  },
  {
   "cell_type": "markdown",
   "id": "7abb127e-d191-4939-b8cc-4552c1d22468",
   "metadata": {},
   "source": [
    "## 5.4 Act Phase\n",
    "The \"Act\" phase is the phase where we execute the solutions to solve our problems. After receiving feedback and carry out improvements, we finally decide the best course of action.\n",
    "\n",
    "Deliverable: Top three recommendations based on the analysis\n"
   ]
  },
  {
   "cell_type": "markdown",
   "id": "7367489d-ad66-433c-b6ab-2070f8d23b13",
   "metadata": {},
   "source": [
    "### 5.4.1 Top three recommendations based on the analysis"
   ]
  },
  {
   "cell_type": "markdown",
   "id": "5d7d597f-52ba-46aa-8da7-a528c3c0f3e7",
   "metadata": {},
   "source": [
    "After a thorough analysis of the data, our findings reveal:\n",
    "\n",
    "1. Casual riders use the service more during the summer season\n",
    "2. Member bikers use the service in the early morning between 6-9 am and in the late afternoon between 4-6 pm. ( Further analysis needs to be done to determine the cause. For now, we can assume it's for work, but it could be for other reasons).\n",
    "3. Casual bikers rode their bikes more compared to members.\n",
    "4. The most frequently used mode of transportation is the classic bike."
   ]
  }
 ],
 "metadata": {
  "kernelspec": {
   "display_name": "Python 3 (ipykernel)",
   "language": "python",
   "name": "python3"
  },
  "language_info": {
   "codemirror_mode": {
    "name": "ipython",
    "version": 3
   },
   "file_extension": ".py",
   "mimetype": "text/x-python",
   "name": "python",
   "nbconvert_exporter": "python",
   "pygments_lexer": "ipython3",
   "version": "3.9.12"
  }
 },
 "nbformat": 4,
 "nbformat_minor": 5
}
